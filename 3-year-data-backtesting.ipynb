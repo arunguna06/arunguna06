{
 "cells": [
  {
   "cell_type": "code",
   "execution_count": 1,
   "id": "caadebbd",
   "metadata": {},
   "outputs": [],
   "source": [
    "import pandas as pd\n",
    "from binance.client import Client\n",
    "import datetime as dt\n",
    "import numpy as np\n",
    "import matplotlib.pyplot as plt\n",
    "import yfinance as yf\n",
    "import pandas_datareader.data as web\n",
    "import pandas_ta as ta"
   ]
  },
  {
   "cell_type": "code",
   "execution_count": 3,
   "id": "8eb360ef",
   "metadata": {},
   "outputs": [],
   "source": [
    "from scipy.signal import argrelextrema\n",
    "from collections import deque\n",
    "\n",
    "def getHigherLows(data: np.array, order=5, K=2):\n",
    "    '''\n",
    "  Finds consecutive higher lows in price pattern.\n",
    "  Must not be exceeded within the number of periods indicated by the width \n",
    "  parameter for the value to be confirmed.\n",
    "  K determines how many consecutive lows need to be higher.\n",
    "  '''\n",
    "  # Get lows\n",
    "    low_idx = argrelextrema(data, np.less, order=order)[0]\n",
    "    lows = data[low_idx]\n",
    "  # Ensure consecutive lows are higher than previous lows\n",
    "    extrema = []\n",
    "    ex_deque = deque(maxlen=K)\n",
    "    for i, idx in enumerate(low_idx):\n",
    "        if i == 0:\n",
    "            ex_deque.append(idx)\n",
    "            continue\n",
    "        if lows[i] < lows[i-1]:\n",
    "            ex_deque.clear()\n",
    "        ex_deque.append(idx)\n",
    "        if len(ex_deque) == K:\n",
    "            extrema.append(ex_deque.copy())\n",
    "    return extrema\n",
    "def getLowerHighs(data: np.array, order=5, K=2):\n",
    "    '''\n",
    "  Finds consecutive lower highs in price pattern.\n",
    "  Must not be exceeded within the number of periods indicated by the width \n",
    "  parameter for the value to be confirmed.\n",
    "  K determines how many consecutive highs need to be lower.\n",
    "  '''\n",
    "  # Get highs\n",
    "    high_idx = argrelextrema(data, np.greater, order=order)[0]\n",
    "    highs = data[high_idx]\n",
    "  # Ensure consecutive highs are lower than previous highs\n",
    "    extrema = []\n",
    "    ex_deque = deque(maxlen=K)\n",
    "    for i, idx in enumerate(high_idx):\n",
    "        if i == 0:\n",
    "            ex_deque.append(idx)\n",
    "            continue\n",
    "        if highs[i] > highs[i-1]:\n",
    "            ex_deque.clear()\n",
    "        ex_deque.append(idx)\n",
    "        if len(ex_deque) == K:\n",
    "            extrema.append(ex_deque.copy())\n",
    "    return extrema\n",
    "def getHigherHighs(data: np.array, order=5, K=2):\n",
    "    '''\n",
    "  Finds consecutive higher highs in price pattern.\n",
    "  Must not be exceeded within the number of periods indicated by the width \n",
    "  parameter for the value to be confirmed.\n",
    "  K determines how many consecutive highs need to be higher.\n",
    "   '''\n",
    "  # Get highs\n",
    "    high_idx = argrelextrema(data, np.greater, order=5)[0]\n",
    "    highs = data[high_idx]\n",
    "  # Ensure consecutive highs are higher than previous highs\n",
    "    extrema = []\n",
    "    ex_deque = deque(maxlen=K)\n",
    "    for i, idx in enumerate(high_idx):\n",
    "        if i == 0:\n",
    "            ex_deque.append(idx)\n",
    "            continue\n",
    "        if highs[i] < highs[i-1]:\n",
    "            ex_deque.clear()\n",
    "        ex_deque.append(idx)\n",
    "        if len(ex_deque) == K:\n",
    "            extrema.append(ex_deque.copy())\n",
    "    return extrema\n",
    "def getLowerLows(data: np.array, order=5, K=2):\n",
    "    '''\n",
    "  Finds consecutive lower lows in price pattern.\n",
    "  Must not be exceeded within the number of periods indicated by the width \n",
    "  parameter for the value to be confirmed.\n",
    "  K determines how many consecutive lows need to be lower.\n",
    "  '''\n",
    "  # Get lows\n",
    "    low_idx = argrelextrema(data, np.less, order=order)[0]\n",
    "    lows = data[low_idx]\n",
    "  # Ensure consecutive lows are lower than previous lows\n",
    "    extrema = []\n",
    "    ex_deque = deque(maxlen=K)\n",
    "    for i, idx in enumerate(low_idx):\n",
    "        if i == 0:\n",
    "            ex_deque.append(idx)\n",
    "            continue\n",
    "        if lows[i] > lows[i-1]:\n",
    "            ex_deque.clear()\n",
    "        ex_deque.append(idx)\n",
    "        if len(ex_deque) == K:\n",
    "            extrema.append(ex_deque.copy())\n",
    "    return extrema"
   ]
  },
  {
   "cell_type": "code",
   "execution_count": 4,
   "id": "db3d7f5e",
   "metadata": {},
   "outputs": [],
   "source": [
    "# function to identify signal\n",
    "def gap(s):\n",
    "    \n",
    "    previos_val = s['shifted_hist']\n",
    "    current_val = s['histogram']\n",
    "    \n",
    "    if previos_val is np.nan:\n",
    "        return 'Null'\n",
    "    if (previos_val < 0) and (current_val >= 0):\n",
    "        return 'Shift'\n",
    "    elif (previos_val > 0) and (current_val <= 0):\n",
    "        return 'Shift'\n",
    "    else:\n",
    "        return 'Null'"
   ]
  },
  {
   "cell_type": "code",
   "execution_count": null,
   "id": "ff32c984",
   "metadata": {},
   "outputs": [],
   "source": []
  },
  {
   "cell_type": "code",
   "execution_count": 5,
   "id": "ba39e104",
   "metadata": {},
   "outputs": [],
   "source": [
    "df = pd.read_csv('BTCUSDT_3years.csv')\n",
    "df.index = [dt.datetime.fromtimestamp(x/1000.0) - dt.timedelta(minutes=30, hours=5)\n",
    "              for x in df.open_time]\n",
    "df.drop(['open_time', 'open', 'high', 'low', 'volume', 'close_time',\n",
    "       'qav', 'num_trades', 'taker_base_vol', 'taker_quote_vol', 'ignore'],\n",
    "        inplace=True, axis=1)\n",
    "df.columns = ['Close']\n",
    "#print(df)\n",
    "\n",
    "#MTF EMA\n",
    "df['EMA_15'] = df['Close'].iloc[2::3].ewm(span=50, adjust=False, min_periods=50).mean()\n",
    "df['EMA_1h'] = df['Close'].iloc[17::12].ewm(span=50, adjust=False, min_periods=50).mean()\n",
    "\n",
    "df['EMA_15'].fillna(method='ffill', inplace=True)\n",
    "df['EMA_1h'].fillna(method='ffill', inplace=True)\n",
    "#print(df)\n",
    "\n",
    "#MACD Indicator\n",
    "k = df['Close'].ewm(span=12, adjust=False, min_periods=12).mean()\n",
    "d = df['Close'].ewm(span=26, adjust=False, min_periods=26).mean()\n",
    "df['MACD'] = k - d\n",
    "df['MACD_signal'] = df['MACD'].ewm(span=9, adjust=False, min_periods=9).mean()\n",
    "df['histogram'] = df['MACD'] - df['MACD_signal']\n",
    "#print(df)\n",
    "\n",
    "#for recording Gap in histogram\n",
    "df['shifted_hist'] = df['histogram'].shift(1)\n",
    "df['histogram_2g'] = df[['histogram', 'shifted_hist']].apply(gap, axis=1)\n",
    "df['histogram_2g_bi'] = np.where(df['histogram_2g']=='Shift', 1, 0)\n",
    "df['histogram_2g_cumsum'] = df['histogram_2g_bi'].cumsum()\n",
    "#print(df)\n",
    "\n",
    "#Conditions for Bullish Divergence\n",
    "df['EMA_15>EMA_1h'] = df['EMA_15'] > df['EMA_1h']\n",
    "df['MACD<0'] = df['MACD']<0\n",
    "df['MACD_signal<0'] = df['MACD_signal']<0\n",
    "#df\n",
    "\n",
    "#Conditions for Bearish Divergence\n",
    "df['EMA_15<EMA_1h'] = df['EMA_15'] < df['EMA_1h']\n",
    "df['MACD>0'] = df['MACD']>0\n",
    "df['MACD_signal>0'] = df['MACD_signal']>0\n",
    "#df\n",
    "\n",
    "#get track of integer index \n",
    "df['indx'] = pd.RangeIndex(len(df))\n"
   ]
  },
  {
   "cell_type": "code",
   "execution_count": 29,
   "id": "c4d606cc",
   "metadata": {},
   "outputs": [],
   "source": [
    "#df.to_csv('models/df_1.csv')"
   ]
  },
  {
   "cell_type": "code",
   "execution_count": 264,
   "id": "915114da",
   "metadata": {},
   "outputs": [],
   "source": [
    "#Bullish Divergence\n",
    "order = 1\n",
    "K = 2\n",
    "\n",
    "close = df['Close'].values\n",
    "macd = df['MACD'].values\n",
    "\n",
    "#Bullish Divergence\n",
    "ll_close = getLowerLows(close, order, K)\n",
    "hl_macd = getHigherLows(macd, order, K)\n",
    "\n",
    "#Bearish Divergence\n",
    "hh_close = getHigherHighs(close, order, K)\n",
    "lh_macd = getLowerHighs(macd, order, K)\n",
    "\n",
    "divergences_bullish = []\n",
    "divergences_bearish = []\n",
    "\n",
    "#Bullish\n",
    "for pair1 in ll_close:\n",
    "    for pair2 in hl_macd:\n",
    "        s1 = pair2[-1]-pair1[-1]<2\n",
    "        s2 = pair2[-1]-pair1[-1]>-1\n",
    "        #s3 = pair2[0]-pair1[0]<5\n",
    "        #s4 = pair2[0]-pair1[0]>-5\n",
    "        s5 = pair1[-1] > pair2[0]\n",
    "        if s1 and s2 and s5:# and s3 and s4:\n",
    "            divergences_bullish.append((pair1, pair2))\n",
    "            \n",
    "#Bearish \n",
    "for pair1 in hh_close:\n",
    "    for pair2 in lh_macd:\n",
    "        s1 = pair2[-1]-pair1[-1]<2\n",
    "        s2 = pair2[-1]-pair1[-1]>-1\n",
    "        #s3 = pair2[0]-pair1[0]<5\n",
    "        #s4 = pair2[0]-pair1[0]>-5\n",
    "        s5 = pair1[-1] > pair2[0]\n",
    "        if s1 and s2 and s5:# and s3 and s4:\n",
    "            divergences_bearish.append((pair1, pair2))\n",
    "            \n",
    "#divergences_bearish"
   ]
  },
  {
   "cell_type": "code",
   "execution_count": 265,
   "id": "4a62858e",
   "metadata": {},
   "outputs": [],
   "source": [
    "df_bullish_pair = pd.DataFrame()\n",
    "df_bullish_pair['Close_range'] = [p[0] for p in divergences_bullish]\n",
    "df_bullish_pair['MACD_range'] = [p[-1] for p in divergences_bullish]\n",
    "df_bullish_pair.to_csv('models/bup_7')\n",
    "\n",
    "df_bearish_pair = pd.DataFrame()\n",
    "df_bearish_pair['Close_range'] = [p[0] for p in divergences_bearish]\n",
    "df_bearish_pair['MACD_range'] = [p[-1] for p in divergences_bearish]\n",
    "df_bearish_pair.to_csv('models/bep_7')"
   ]
  },
  {
   "cell_type": "code",
   "execution_count": 266,
   "id": "f198dbc3",
   "metadata": {},
   "outputs": [
    {
     "data": {
      "text/plain": [
       "(           Close_range        MACD_range\n",
       " 0             [30, 36]          [31, 37]\n",
       " 1             [69, 77]          [67, 78]\n",
       " 2             [91, 97]          [78, 97]\n",
       " 3           [181, 184]        [175, 184]\n",
       " 4           [267, 269]        [267, 269]\n",
       " ...                ...               ...\n",
       " 7846  [314392, 314398]  [314388, 314398]\n",
       " 7847  [314426, 314431]  [314422, 314431]\n",
       " 7848  [314437, 314442]  [314431, 314442]\n",
       " 7849  [314449, 314451]  [314442, 314451]\n",
       " 7850  [314521, 314526]  [314519, 314526]\n",
       " \n",
       " [7851 rows x 2 columns],\n",
       "            Close_range        MACD_range\n",
       " 0           [151, 161]        [143, 162]\n",
       " 1           [305, 312]        [305, 312]\n",
       " 2           [491, 520]        [515, 520]\n",
       " 3           [823, 836]        [817, 837]\n",
       " 4           [919, 930]        [919, 930]\n",
       " ...                ...               ...\n",
       " 1126  [313279, 313304]  [313300, 313304]\n",
       " 1127  [313583, 313593]  [313583, 313593]\n",
       " 1128  [313632, 313671]  [313667, 313671]\n",
       " 1129  [313793, 313799]  [313794, 313800]\n",
       " 1130  [314514, 314524]  [314506, 314524]\n",
       " \n",
       " [1131 rows x 2 columns])"
      ]
     },
     "execution_count": 266,
     "metadata": {},
     "output_type": "execute_result"
    }
   ],
   "source": [
    "df_bullish_pair, df_bearish_pair"
   ]
  },
  {
   "cell_type": "code",
   "execution_count": 267,
   "id": "abf619ce",
   "metadata": {},
   "outputs": [],
   "source": [
    "cols = ['Type', 'Close_range', 'MACD_range', 'Shift_count',\n",
    "        'Con_1', 'Con_2', 'Con_3', 'entry', 'entry_close', 'PandL']"
   ]
  },
  {
   "cell_type": "code",
   "execution_count": 268,
   "id": "2d190912",
   "metadata": {},
   "outputs": [],
   "source": [
    "def shift_count(macd_range):\n",
    "    s = macd_range[0]\n",
    "    e = macd_range[-1]\n",
    "    dif = df['histogram_2g_cumsum'][e]-df['histogram_2g_cumsum'][s]\n",
    "    return dif\n",
    "\n",
    "df_bullish_pair['Shift_count'] = df_bullish_pair['MACD_range'].apply(shift_count)\n",
    "df_bearish_pair['Shift_count'] = df_bearish_pair['MACD_range'].apply(shift_count)\n",
    "#df_points"
   ]
  },
  {
   "cell_type": "code",
   "execution_count": 269,
   "id": "842b8391",
   "metadata": {},
   "outputs": [
    {
     "data": {
      "text/plain": [
       "(1    3820\n",
       " 0    2187\n",
       " 2    1844\n",
       " Name: Shift_count, dtype: int64,\n",
       " 2    470\n",
       " 1    348\n",
       " 0    313\n",
       " Name: Shift_count, dtype: int64)"
      ]
     },
     "execution_count": 269,
     "metadata": {},
     "output_type": "execute_result"
    }
   ],
   "source": [
    "df_bullish_pair['Shift_count'].value_counts(), df_bearish_pair['Shift_count'].value_counts() "
   ]
  },
  {
   "cell_type": "code",
   "execution_count": 270,
   "id": "5bda6b52",
   "metadata": {},
   "outputs": [
    {
     "name": "stdout",
     "output_type": "stream",
     "text": [
      "0    5638\n",
      "1    2213\n",
      "dtype: int64\n",
      " 0     944\n",
      "-3     787\n",
      "-4     725\n",
      "-2     718\n",
      "-5     648\n",
      "-6     585\n",
      "-7     559\n",
      "-8     468\n",
      "-9     350\n",
      "-10    326\n",
      "-11    274\n",
      "-12    192\n",
      "-13    182\n",
      "-14    168\n",
      " 1     158\n",
      "-15    119\n",
      "-17     93\n",
      "-16     84\n",
      "-18     67\n",
      "-19     50\n",
      "-20     48\n",
      "-21     34\n",
      "-24     31\n",
      "-23     30\n",
      "-25     29\n",
      "-22     27\n",
      " 2      26\n",
      "-1      17\n",
      "-27     16\n",
      "-28     16\n",
      "-26     13\n",
      "-29     13\n",
      "-30     10\n",
      "-33      8\n",
      "-32      7\n",
      "-36      4\n",
      " 3       4\n",
      "-41      4\n",
      "-31      3\n",
      "-40      2\n",
      "-35      2\n",
      "-38      2\n",
      "-39      1\n",
      "-37      1\n",
      " 10      1\n",
      " 4       1\n",
      "-34      1\n",
      "-42      1\n",
      " 5       1\n",
      "-51      1\n",
      "dtype: int64\n"
     ]
    }
   ],
   "source": [
    "#len(df_points[df_points['Type'] == 'Bull'])\n",
    "def diff_2nd_point(s):\n",
    "    e1 = s['Close_range'][-1]\n",
    "    e2 = s['MACD_range'][-1]\n",
    "    return e2 - e1\n",
    "\n",
    "def diff_1st_point(s):\n",
    "    e1 = s['Close_range'][0]\n",
    "    e2 = s['MACD_range'][0]\n",
    "    return e2 - e1\n",
    "\n",
    "print(df_bullish_pair[['Close_range', 'MACD_range']].apply(diff_2nd_point, axis=1).value_counts())\n",
    "\n",
    "print(df_bullish_pair[['Close_range', 'MACD_range']].apply(diff_1st_point, axis=1).value_counts())"
   ]
  },
  {
   "cell_type": "code",
   "execution_count": 271,
   "id": "71cb2717",
   "metadata": {},
   "outputs": [
    {
     "data": {
      "text/plain": [
       " 0     944\n",
       "-3     787\n",
       "-4     725\n",
       "-2     718\n",
       "-5     648\n",
       "-6     585\n",
       "-7     559\n",
       "-8     468\n",
       "-9     350\n",
       "-10    326\n",
       "-11    274\n",
       "-12    192\n",
       "-13    182\n",
       "-14    168\n",
       " 1     158\n",
       "-15    119\n",
       "-17     93\n",
       "-16     84\n",
       "-18     67\n",
       "-19     50\n",
       "-20     48\n",
       "-21     34\n",
       "-24     31\n",
       "-23     30\n",
       "-25     29\n",
       "-22     27\n",
       " 2      26\n",
       "-1      17\n",
       "-27     16\n",
       "-28     16\n",
       "-26     13\n",
       "-29     13\n",
       "-30     10\n",
       "-33      8\n",
       "-32      7\n",
       "-36      4\n",
       " 3       4\n",
       "-41      4\n",
       "-31      3\n",
       "-40      2\n",
       "-35      2\n",
       "-38      2\n",
       "-39      1\n",
       "-37      1\n",
       " 10      1\n",
       " 4       1\n",
       "-34      1\n",
       "-42      1\n",
       " 5       1\n",
       "-51      1\n",
       "dtype: int64"
      ]
     },
     "execution_count": 271,
     "metadata": {},
     "output_type": "execute_result"
    }
   ],
   "source": [
    "_ = df_bullish_pair[['Close_range', 'MACD_range']].apply(diff_1st_point, axis=1).value_counts()\n",
    "_"
   ]
  },
  {
   "cell_type": "code",
   "execution_count": 272,
   "id": "e539351b",
   "metadata": {},
   "outputs": [
    {
     "data": {
      "text/plain": [
       "7851"
      ]
     },
     "execution_count": 272,
     "metadata": {},
     "output_type": "execute_result"
    }
   ],
   "source": [
    "_.sum()"
   ]
  },
  {
   "cell_type": "code",
   "execution_count": null,
   "id": "dae80b24",
   "metadata": {},
   "outputs": [],
   "source": []
  },
  {
   "cell_type": "code",
   "execution_count": 273,
   "id": "ce818c2f",
   "metadata": {},
   "outputs": [],
   "source": [
    "def condition(macd_range, Type, x):\n",
    "    s = macd_range[0]\n",
    "    e = macd_range[-1]\n",
    "    \n",
    "    df_hh = df.iloc[s:e+1]\n",
    "    \n",
    "    if Type == 'Bull':\n",
    "        con1 = 'EMA_15>EMA_1h'\n",
    "        con2 = 'MACD<0'\n",
    "        con3 = 'MACD_signal<0'\n",
    "    if Type == 'Bear':\n",
    "        con1 = 'EMA_15<EMA_1h'\n",
    "        con2 = 'MACD>0'\n",
    "        con3 = 'MACD_signal>0'\n",
    "        \n",
    "    if x == 1:    \n",
    "        condition_1 = df_hh[con1].sum() == len(df_hh)\n",
    "        return condition_1\n",
    "    if x == 2:\n",
    "        condition_2 = df_hh[con2].sum() == len(df_hh)\n",
    "        return condition_2\n",
    "    if x == 3:\n",
    "        condition_3 = df_hh[con3].sum() == len(df_hh)\n",
    "        return condition_3"
   ]
  },
  {
   "cell_type": "code",
   "execution_count": null,
   "id": "322b0dde",
   "metadata": {},
   "outputs": [],
   "source": []
  },
  {
   "cell_type": "code",
   "execution_count": 274,
   "id": "ad745043",
   "metadata": {},
   "outputs": [
    {
     "data": {
      "text/html": [
       "<div>\n",
       "<style scoped>\n",
       "    .dataframe tbody tr th:only-of-type {\n",
       "        vertical-align: middle;\n",
       "    }\n",
       "\n",
       "    .dataframe tbody tr th {\n",
       "        vertical-align: top;\n",
       "    }\n",
       "\n",
       "    .dataframe thead th {\n",
       "        text-align: right;\n",
       "    }\n",
       "</style>\n",
       "<table border=\"1\" class=\"dataframe\">\n",
       "  <thead>\n",
       "    <tr style=\"text-align: right;\">\n",
       "      <th></th>\n",
       "      <th>Type</th>\n",
       "      <th>Close_range</th>\n",
       "      <th>MACD_range</th>\n",
       "      <th>Shift_count</th>\n",
       "      <th>Con_1</th>\n",
       "      <th>Con_2</th>\n",
       "      <th>Con_3</th>\n",
       "      <th>Conditions</th>\n",
       "    </tr>\n",
       "  </thead>\n",
       "  <tbody>\n",
       "    <tr>\n",
       "      <th>0</th>\n",
       "      <td>Bull</td>\n",
       "      <td>[30, 36]</td>\n",
       "      <td>[31, 37]</td>\n",
       "      <td>1</td>\n",
       "      <td>False</td>\n",
       "      <td>False</td>\n",
       "      <td>False</td>\n",
       "      <td>False</td>\n",
       "    </tr>\n",
       "    <tr>\n",
       "      <th>1</th>\n",
       "      <td>Bull</td>\n",
       "      <td>[39, 44]</td>\n",
       "      <td>[45, 47]</td>\n",
       "      <td>0</td>\n",
       "      <td>False</td>\n",
       "      <td>False</td>\n",
       "      <td>False</td>\n",
       "      <td>False</td>\n",
       "    </tr>\n",
       "    <tr>\n",
       "      <th>2</th>\n",
       "      <td>Bull</td>\n",
       "      <td>[69, 77]</td>\n",
       "      <td>[67, 78]</td>\n",
       "      <td>2</td>\n",
       "      <td>False</td>\n",
       "      <td>True</td>\n",
       "      <td>True</td>\n",
       "      <td>False</td>\n",
       "    </tr>\n",
       "    <tr>\n",
       "      <th>3</th>\n",
       "      <td>Bull</td>\n",
       "      <td>[91, 97]</td>\n",
       "      <td>[78, 97]</td>\n",
       "      <td>1</td>\n",
       "      <td>False</td>\n",
       "      <td>False</td>\n",
       "      <td>False</td>\n",
       "      <td>False</td>\n",
       "    </tr>\n",
       "    <tr>\n",
       "      <th>4</th>\n",
       "      <td>Bull</td>\n",
       "      <td>[181, 184]</td>\n",
       "      <td>[175, 184]</td>\n",
       "      <td>1</td>\n",
       "      <td>False</td>\n",
       "      <td>True</td>\n",
       "      <td>True</td>\n",
       "      <td>False</td>\n",
       "    </tr>\n",
       "    <tr>\n",
       "      <th>...</th>\n",
       "      <td>...</td>\n",
       "      <td>...</td>\n",
       "      <td>...</td>\n",
       "      <td>...</td>\n",
       "      <td>...</td>\n",
       "      <td>...</td>\n",
       "      <td>...</td>\n",
       "      <td>...</td>\n",
       "    </tr>\n",
       "    <tr>\n",
       "      <th>20039</th>\n",
       "      <td>Bear</td>\n",
       "      <td>[314004, 314017]</td>\n",
       "      <td>[314018, 314022]</td>\n",
       "      <td>0</td>\n",
       "      <td>False</td>\n",
       "      <td>False</td>\n",
       "      <td>False</td>\n",
       "      <td>False</td>\n",
       "    </tr>\n",
       "    <tr>\n",
       "      <th>20040</th>\n",
       "      <td>Bear</td>\n",
       "      <td>[314378, 314389]</td>\n",
       "      <td>[314376, 314394]</td>\n",
       "      <td>2</td>\n",
       "      <td>True</td>\n",
       "      <td>True</td>\n",
       "      <td>True</td>\n",
       "      <td>True</td>\n",
       "    </tr>\n",
       "    <tr>\n",
       "      <th>20041</th>\n",
       "      <td>Bear</td>\n",
       "      <td>[314429, 314481]</td>\n",
       "      <td>[314481, 314487]</td>\n",
       "      <td>2</td>\n",
       "      <td>False</td>\n",
       "      <td>True</td>\n",
       "      <td>True</td>\n",
       "      <td>False</td>\n",
       "    </tr>\n",
       "    <tr>\n",
       "      <th>20042</th>\n",
       "      <td>Bear</td>\n",
       "      <td>[314514, 314524]</td>\n",
       "      <td>[314506, 314524]</td>\n",
       "      <td>2</td>\n",
       "      <td>False</td>\n",
       "      <td>False</td>\n",
       "      <td>True</td>\n",
       "      <td>False</td>\n",
       "    </tr>\n",
       "    <tr>\n",
       "      <th>20043</th>\n",
       "      <td>Bear</td>\n",
       "      <td>[314514, 314524]</td>\n",
       "      <td>[314524, 314527]</td>\n",
       "      <td>0</td>\n",
       "      <td>False</td>\n",
       "      <td>True</td>\n",
       "      <td>True</td>\n",
       "      <td>False</td>\n",
       "    </tr>\n",
       "  </tbody>\n",
       "</table>\n",
       "<p>20044 rows × 8 columns</p>\n",
       "</div>"
      ],
      "text/plain": [
       "       Type       Close_range        MACD_range  Shift_count  Con_1  Con_2  \\\n",
       "0      Bull          [30, 36]          [31, 37]            1  False  False   \n",
       "1      Bull          [39, 44]          [45, 47]            0  False  False   \n",
       "2      Bull          [69, 77]          [67, 78]            2  False   True   \n",
       "3      Bull          [91, 97]          [78, 97]            1  False  False   \n",
       "4      Bull        [181, 184]        [175, 184]            1  False   True   \n",
       "...     ...               ...               ...          ...    ...    ...   \n",
       "20039  Bear  [314004, 314017]  [314018, 314022]            0  False  False   \n",
       "20040  Bear  [314378, 314389]  [314376, 314394]            2   True   True   \n",
       "20041  Bear  [314429, 314481]  [314481, 314487]            2  False   True   \n",
       "20042  Bear  [314514, 314524]  [314506, 314524]            2  False  False   \n",
       "20043  Bear  [314514, 314524]  [314524, 314527]            0  False   True   \n",
       "\n",
       "       Con_3  Conditions  \n",
       "0      False       False  \n",
       "1      False       False  \n",
       "2       True       False  \n",
       "3      False       False  \n",
       "4       True       False  \n",
       "...      ...         ...  \n",
       "20039  False       False  \n",
       "20040   True        True  \n",
       "20041   True       False  \n",
       "20042   True       False  \n",
       "20043   True       False  \n",
       "\n",
       "[20044 rows x 8 columns]"
      ]
     },
     "execution_count": 274,
     "metadata": {},
     "output_type": "execute_result"
    }
   ],
   "source": [
    "#Condition 1 on MTF EMA\n",
    "df_bullish_pair['Con_1'] = df_bullish_pair['MACD_range'].apply(condition, Type='Bull', x=1)\n",
    "df_bearish_pair['Con_1'] = df_bearish_pair['MACD_range'].apply(condition, Type='Bear', x=1)\n",
    "#df_points\n",
    "\n",
    "#Condition 2\n",
    "df_bullish_pair['Con_2'] = df_bullish_pair['MACD_range'].apply(condition, Type='Bull', x=2)\n",
    "df_bearish_pair['Con_2'] = df_bearish_pair['MACD_range'].apply(condition, Type='Bear', x=2)\n",
    "df_points\n",
    "\n",
    "df_bullish_pair['Con_3'] = df_bullish_pair['MACD_range'].apply(condition, Type='Bull', x=3)\n",
    "df_bearish_pair['Con_3'] = df_bearish_pair['MACD_range'].apply(condition, Type='Bear', x=3)\n",
    "df_points"
   ]
  },
  {
   "cell_type": "code",
   "execution_count": 275,
   "id": "4d9d2363",
   "metadata": {},
   "outputs": [
    {
     "data": {
      "text/plain": [
       "(           Close_range        MACD_range  Shift_count  Con_1  Con_2  Con_3  \\\n",
       " 0             [30, 36]          [31, 37]            1  False  False  False   \n",
       " 1             [69, 77]          [67, 78]            2  False   True   True   \n",
       " 2             [91, 97]          [78, 97]            1  False  False  False   \n",
       " 3           [181, 184]        [175, 184]            1  False   True   True   \n",
       " 4           [267, 269]        [267, 269]            0  False  False  False   \n",
       " ...                ...               ...          ...    ...    ...    ...   \n",
       " 7846  [314392, 314398]  [314388, 314398]            2  False  False  False   \n",
       " 7847  [314426, 314431]  [314422, 314431]            1  False   True   True   \n",
       " 7848  [314437, 314442]  [314431, 314442]            0  False  False  False   \n",
       " 7849  [314449, 314451]  [314442, 314451]            0  False  False  False   \n",
       " 7850  [314521, 314526]  [314519, 314526]            1   True  False  False   \n",
       " \n",
       "       Conditions  \n",
       " 0          False  \n",
       " 1          False  \n",
       " 2          False  \n",
       " 3          False  \n",
       " 4          False  \n",
       " ...          ...  \n",
       " 7846       False  \n",
       " 7847       False  \n",
       " 7848       False  \n",
       " 7849       False  \n",
       " 7850       False  \n",
       " \n",
       " [7851 rows x 7 columns],\n",
       "            Close_range        MACD_range  Shift_count  Con_1  Con_2  Con_3  \\\n",
       " 0           [151, 161]        [143, 162]            1  False   True   True   \n",
       " 1           [305, 312]        [305, 312]            0  False  False   True   \n",
       " 2           [491, 520]        [515, 520]            0  False   True   True   \n",
       " 3           [823, 836]        [817, 837]            2  False  False  False   \n",
       " 4           [919, 930]        [919, 930]            2  False   True   True   \n",
       " ...                ...               ...          ...    ...    ...    ...   \n",
       " 1126  [313279, 313304]  [313300, 313304]            2   True   True   True   \n",
       " 1127  [313583, 313593]  [313583, 313593]            2  False   True   True   \n",
       " 1128  [313632, 313671]  [313667, 313671]            0  False   True   True   \n",
       " 1129  [313793, 313799]  [313794, 313800]            2  False   True   True   \n",
       " 1130  [314514, 314524]  [314506, 314524]            2  False  False   True   \n",
       " \n",
       "       Conditions  \n",
       " 0          False  \n",
       " 1          False  \n",
       " 2          False  \n",
       " 3          False  \n",
       " 4          False  \n",
       " ...          ...  \n",
       " 1126        True  \n",
       " 1127       False  \n",
       " 1128       False  \n",
       " 1129       False  \n",
       " 1130       False  \n",
       " \n",
       " [1131 rows x 7 columns])"
      ]
     },
     "execution_count": 275,
     "metadata": {},
     "output_type": "execute_result"
    }
   ],
   "source": [
    "df_bullish_pair['Conditions'] = (df_bullish_pair['Con_1'] & \n",
    "                                 df_bullish_pair['Con_2'] & \n",
    "                                 df_bullish_pair['Con_3'])\n",
    "\n",
    "df_bearish_pair['Conditions'] = (df_bearish_pair['Con_1'] & \n",
    "                                 df_bearish_pair['Con_2'] & \n",
    "                                 df_bearish_pair['Con_3'])\n",
    "df_bullish_pair, df_bearish_pair"
   ]
  },
  {
   "cell_type": "code",
   "execution_count": 276,
   "id": "d1e770a9",
   "metadata": {},
   "outputs": [
    {
     "data": {
      "text/plain": [
       "(           Close_range        MACD_range\n",
       " 39        [1994, 2002]      [1994, 2002]\n",
       " 49        [2339, 2341]      [2322, 2341]\n",
       " 50        [2344, 2348]      [2341, 2348]\n",
       " 58        [2655, 2658]      [2643, 2658]\n",
       " 59        [2661, 2663]      [2658, 2664]\n",
       " ...                ...               ...\n",
       " 7645  [305957, 305961]  [305952, 305961]\n",
       " 7698  [308234, 308237]  [308224, 308238]\n",
       " 7777  [311379, 311386]  [311379, 311386]\n",
       " 7812  [312626, 312632]  [312612, 312633]\n",
       " 7836  [313813, 313821]  [313813, 313822]\n",
       " \n",
       " [455 rows x 2 columns],\n",
       "            Close_range        MACD_range\n",
       " 5         [1562, 1574]      [1566, 1574]\n",
       " 20        [6667, 6679]      [6666, 6680]\n",
       " 21        [7255, 7270]      [7255, 7271]\n",
       " 24        [8821, 8836]      [8822, 8837]\n",
       " 25        [8846, 8854]      [8846, 8854]\n",
       " ...                ...               ...\n",
       " 1102  [307240, 307249]  [307241, 307250]\n",
       " 1104  [307708, 307721]  [307715, 307721]\n",
       " 1117  [310962, 310975]  [310967, 310976]\n",
       " 1118  [310985, 310997]  [310976, 310998]\n",
       " 1126  [313279, 313304]  [313300, 313304]\n",
       " \n",
       " [180 rows x 2 columns])"
      ]
     },
     "execution_count": 276,
     "metadata": {},
     "output_type": "execute_result"
    }
   ],
   "source": [
    "cols = ['Close_range', 'MACD_range']\n",
    "\n",
    "mask11 = df_bullish_pair['Shift_count'] >= 2\n",
    "mask12 = df_bullish_pair['Conditions']\n",
    "df_bullish_final = df_bullish_pair.loc[mask11 & mask12, cols].copy()\n",
    "\n",
    "mask21 = df_bearish_pair['Shift_count'] >= 2\n",
    "mask22 = df_bearish_pair['Conditions']\n",
    "df_bearish_final = df_bearish_pair.loc[mask21 & mask22, cols].copy()\n",
    "\n",
    "df_bullish_final, df_bearish_final"
   ]
  },
  {
   "cell_type": "code",
   "execution_count": 277,
   "id": "5d810c95",
   "metadata": {},
   "outputs": [
    {
     "data": {
      "text/plain": [
       "(           Close_range        MACD_range   entry\n",
       " 39        [1994, 2002]      [1994, 2002]    2004\n",
       " 49        [2339, 2341]      [2322, 2341]    2345\n",
       " 50        [2344, 2348]      [2341, 2348]    2349\n",
       " 58        [2655, 2658]      [2643, 2658]    2659\n",
       " 59        [2661, 2663]      [2658, 2664]    2665\n",
       " ...                ...               ...     ...\n",
       " 7645  [305957, 305961]  [305952, 305961]  305963\n",
       " 7698  [308234, 308237]  [308224, 308238]  308241\n",
       " 7777  [311379, 311386]  [311379, 311386]  311389\n",
       " 7812  [312626, 312632]  [312612, 312633]  312636\n",
       " 7836  [313813, 313821]  [313813, 313822]  313823\n",
       " \n",
       " [455 rows x 3 columns],\n",
       "            Close_range        MACD_range   entry\n",
       " 5         [1562, 1574]      [1566, 1574]    1576\n",
       " 20        [6667, 6679]      [6666, 6680]    6682\n",
       " 21        [7255, 7270]      [7255, 7271]    7273\n",
       " 24        [8821, 8836]      [8822, 8837]    8844\n",
       " 25        [8846, 8854]      [8846, 8854]    8855\n",
       " ...                ...               ...     ...\n",
       " 1102  [307240, 307249]  [307241, 307250]  307251\n",
       " 1104  [307708, 307721]  [307715, 307721]  307723\n",
       " 1117  [310962, 310975]  [310967, 310976]  310977\n",
       " 1118  [310985, 310997]  [310976, 310998]  311002\n",
       " 1126  [313279, 313304]  [313300, 313304]  313305\n",
       " \n",
       " [180 rows x 3 columns])"
      ]
     },
     "execution_count": 277,
     "metadata": {},
     "output_type": "execute_result"
    }
   ],
   "source": [
    "def entry(macd_range):\n",
    "    e = macd_range[-1]\n",
    "    mask = df['histogram_2g_cumsum'] == df['histogram_2g_cumsum'][e] + 1\n",
    "    entry_point = df.loc[mask, 'indx'][0]\n",
    "    return entry_point\n",
    "\n",
    "df_bullish_final['entry'] = df_bullish_final['MACD_range'].apply(entry)\n",
    "df_bearish_final['entry'] = df_bearish_final['MACD_range'].apply(entry)\n",
    "\n",
    "df_bullish_final, df_bearish_final"
   ]
  },
  {
   "cell_type": "code",
   "execution_count": 278,
   "id": "5d9e54d1",
   "metadata": {},
   "outputs": [
    {
     "data": {
      "text/plain": [
       "(1    455\n",
       " Name: Close_range, dtype: int64,\n",
       " 1    180\n",
       " Name: Close_range, dtype: int64)"
      ]
     },
     "execution_count": 278,
     "metadata": {},
     "output_type": "execute_result"
    }
   ],
   "source": [
    "(df_bullish_final['Close_range'].value_counts().value_counts(),\n",
    " df_bearish_final['Close_range'].value_counts().value_counts())"
   ]
  },
  {
   "cell_type": "code",
   "execution_count": 279,
   "id": "44d8e636",
   "metadata": {},
   "outputs": [
    {
     "data": {
      "text/plain": [
       "(1    455\n",
       " Name: MACD_range, dtype: int64,\n",
       " 1    180\n",
       " Name: MACD_range, dtype: int64)"
      ]
     },
     "execution_count": 279,
     "metadata": {},
     "output_type": "execute_result"
    }
   ],
   "source": [
    "(df_bullish_final['MACD_range'].value_counts().value_counts(),\n",
    " df_bearish_final['MACD_range'].value_counts().value_counts())"
   ]
  },
  {
   "cell_type": "code",
   "execution_count": 280,
   "id": "59852231",
   "metadata": {},
   "outputs": [
    {
     "data": {
      "text/plain": [
       "(1    455\n",
       " Name: entry, dtype: int64,\n",
       " 1    180\n",
       " Name: entry, dtype: int64)"
      ]
     },
     "execution_count": 280,
     "metadata": {},
     "output_type": "execute_result"
    }
   ],
   "source": [
    "(df_bullish_final['entry'].value_counts().value_counts(),\n",
    " df_bearish_final['entry'].value_counts().value_counts())"
   ]
  },
  {
   "cell_type": "code",
   "execution_count": 281,
   "id": "9687642a",
   "metadata": {},
   "outputs": [],
   "source": [
    "# function to identify signal\n",
    "def repeated_entry(s):\n",
    "    \n",
    "    previous_val = s['entry_shifted']\n",
    "    current_val = s['entry']\n",
    "    \n",
    "    if previous_val == current_val:\n",
    "        return 1\n",
    "    else:\n",
    "        return 0\n",
    "    "
   ]
  },
  {
   "cell_type": "code",
   "execution_count": 282,
   "id": "cf97009e",
   "metadata": {},
   "outputs": [],
   "source": [
    "df_bullish_final['entry_shifted'] = df_bullish_final['entry'].shift(1)\n",
    "df_bullish_final['repeated_entry'] = df_bullish_final[['entry', 'entry_shifted']].apply(repeated_entry, axis=1)\n",
    "#indx_to_remove = df_bullish_final['repeated_entry'] == 1\n",
    "#df_final.drop(indx_to_remove, axis=0, inplace=True)\n",
    "\n",
    "df_bearish_final['entry_shifted'] = df_bearish_final['entry'].shift(1)\n",
    "df_bearish_final['repeated_entry'] = df_bearish_final[['entry', 'entry_shifted']].apply(repeated_entry, axis=1)\n",
    "#indx_to_remove = df_bearish_final['repeated_entry'] == 1"
   ]
  },
  {
   "cell_type": "code",
   "execution_count": 283,
   "id": "d38f86da",
   "metadata": {},
   "outputs": [],
   "source": [
    "df_bullish_final['entry_close'] = df_bullish_final['entry'].apply(lambda i: df.iloc[i]['Close'])\n",
    "df_bearish_final['entry_close'] = df_bearish_final['entry'].apply(lambda i: df.iloc[i]['Close'])\n"
   ]
  },
  {
   "cell_type": "code",
   "execution_count": 284,
   "id": "bfbb2cca",
   "metadata": {},
   "outputs": [],
   "source": [
    "def exit(entry_point, Type):\n",
    "    close = df.iloc[entry_point]['Close']\n",
    "    exit_point = entry_point + 1\n",
    "    exit = df.iloc[exit_point]['Close']\n",
    "    diff = exit - close\n",
    "    stop_loss = 1.5*close/100\n",
    "    target = 1.5*stop_loss\n",
    "    #print(entry_point)\n",
    "    if Type == 'Bull':\n",
    "        while diff <= target and diff>=-stop_loss:\n",
    "            exit_point += 1\n",
    "            #print('\\t', exit_point)\n",
    "            exit = df.iloc[exit_point]['Close']\n",
    "            diff = exit - close\n",
    "        if not diff<=target:\n",
    "            return (exit_point, exit, 'profit')\n",
    "        if not diff>=-stop_loss:\n",
    "            return (exit_point, exit, 'loss')\n",
    "    if Type == 'Bear':\n",
    "        while diff >= -target and diff <= stop_loss:\n",
    "            exit_point += 1\n",
    "            exit = df.iloc[exit_point]['Close']\n",
    "            diff = exit - close\n",
    "        if not diff >= -target:\n",
    "            return (exit_point, exit, 'profit')\n",
    "        if not diff <= stop_loss:\n",
    "            return (exit_point, exit, 'loss')\n",
    "        "
   ]
  },
  {
   "cell_type": "code",
   "execution_count": 285,
   "id": "28300b11",
   "metadata": {},
   "outputs": [
    {
     "data": {
      "text/plain": [
       "(           Close_range        MACD_range   entry  entry_shifted  \\\n",
       " 39        [1994, 2002]      [1994, 2002]    2004            NaN   \n",
       " 49        [2339, 2341]      [2322, 2341]    2345         2004.0   \n",
       " 50        [2344, 2348]      [2341, 2348]    2349         2345.0   \n",
       " 58        [2655, 2658]      [2643, 2658]    2659         2349.0   \n",
       " 59        [2661, 2663]      [2658, 2664]    2665         2659.0   \n",
       " ...                ...               ...     ...            ...   \n",
       " 7645  [305957, 305961]  [305952, 305961]  305963       305519.0   \n",
       " 7698  [308234, 308237]  [308224, 308238]  308241       305963.0   \n",
       " 7777  [311379, 311386]  [311379, 311386]  311389       308241.0   \n",
       " 7812  [312626, 312632]  [312612, 312633]  312636       311389.0   \n",
       " 7836  [313813, 313821]  [313813, 313822]  313823       312636.0   \n",
       " \n",
       "       repeated_entry  entry_close                        exit  \n",
       " 39                 0      3634.99       (3930, 3577.67, loss)  \n",
       " 49                 0      3655.49       (2883, 3590.92, loss)  \n",
       " 50                 0      3654.84       (2883, 3590.92, loss)  \n",
       " 58                 0      3625.76     (4620, 3713.74, profit)  \n",
       " 59                 0      3625.00     (4620, 3713.74, profit)  \n",
       " ...              ...          ...                         ...  \n",
       " 7645               0     47382.71    (306404, 46625.78, loss)  \n",
       " 7698               0     41735.46    (308380, 41048.39, loss)  \n",
       " 7777               0     40838.65    (311413, 40044.37, loss)  \n",
       " 7812               0     36024.52  (312721, 36952.16, profit)  \n",
       " 7836               0     37698.30  (313945, 38575.79, profit)  \n",
       " \n",
       " [455 rows x 7 columns],\n",
       "            Close_range        MACD_range   entry  entry_shifted  \\\n",
       " 5         [1562, 1574]      [1566, 1574]    1576            NaN   \n",
       " 20        [6667, 6679]      [6666, 6680]    6682         1576.0   \n",
       " 21        [7255, 7270]      [7255, 7271]    7273         6682.0   \n",
       " 24        [8821, 8836]      [8822, 8837]    8844         7273.0   \n",
       " 25        [8846, 8854]      [8846, 8854]    8855         8844.0   \n",
       " ...                ...               ...     ...            ...   \n",
       " 1102  [307240, 307249]  [307241, 307250]  307251       306830.0   \n",
       " 1104  [307708, 307721]  [307715, 307721]  307723       307251.0   \n",
       " 1117  [310962, 310975]  [310967, 310976]  310977       307723.0   \n",
       " 1118  [310985, 310997]  [310976, 310998]  311002       310977.0   \n",
       " 1126  [313279, 313304]  [313300, 313304]  313305       311002.0   \n",
       " \n",
       "       repeated_entry  entry_close                        exit  \n",
       " 5                  0      3420.77       (1915, 3473.38, loss)  \n",
       " 20                 0      3803.45        (6845, 3862.0, loss)  \n",
       " 21                 0      3819.05     (7446, 3724.68, profit)  \n",
       " 24                 0      3723.00        (9086, 3795.0, loss)  \n",
       " 25                 0      3722.64        (9086, 3795.0, loss)  \n",
       " ...              ...          ...                         ...  \n",
       " 1102               0     42879.23    (307315, 43523.92, loss)  \n",
       " 1104               0     41870.34  (307865, 40842.12, profit)  \n",
       " 1117               0     42189.87    (311284, 42939.47, loss)  \n",
       " 1118               0     42220.96    (311284, 42939.47, loss)  \n",
       " 1126               0     36851.52   (313356, 35909.9, profit)  \n",
       " \n",
       " [180 rows x 7 columns])"
      ]
     },
     "execution_count": 285,
     "metadata": {},
     "output_type": "execute_result"
    }
   ],
   "source": [
    "df_bullish_final['exit'] = df_bullish_final['entry'].apply(exit, Type='Bull')\n",
    "df_bearish_final['exit'] = df_bearish_final['entry'].apply(exit, Type='Bear')\n",
    "\n",
    "df_bullish_final, df_bearish_final"
   ]
  },
  {
   "cell_type": "code",
   "execution_count": 286,
   "id": "53f8fefc",
   "metadata": {},
   "outputs": [
    {
     "data": {
      "text/plain": [
       "0    180\n",
       "Name: repeated_entry, dtype: int64"
      ]
     },
     "execution_count": 286,
     "metadata": {},
     "output_type": "execute_result"
    }
   ],
   "source": [
    "df_bearish_final['repeated_entry'].value_counts()"
   ]
  },
  {
   "cell_type": "code",
   "execution_count": 287,
   "id": "e55e0707",
   "metadata": {},
   "outputs": [
    {
     "data": {
      "text/plain": [
       "0    455\n",
       "Name: repeated_entry, dtype: int64"
      ]
     },
     "execution_count": 287,
     "metadata": {},
     "output_type": "execute_result"
    }
   ],
   "source": [
    "df_bullish_final['repeated_entry'].value_counts()"
   ]
  },
  {
   "cell_type": "code",
   "execution_count": null,
   "id": "cffd40ca",
   "metadata": {},
   "outputs": [],
   "source": []
  },
  {
   "cell_type": "code",
   "execution_count": 288,
   "id": "bd9a33ca",
   "metadata": {
    "scrolled": true
   },
   "outputs": [
    {
     "data": {
      "text/plain": [
       "(           Close_range        MACD_range   entry  entry_shifted  \\\n",
       " 39        [1994, 2002]      [1994, 2002]    2004            NaN   \n",
       " 49        [2339, 2341]      [2322, 2341]    2345         2004.0   \n",
       " 50        [2344, 2348]      [2341, 2348]    2349         2345.0   \n",
       " 58        [2655, 2658]      [2643, 2658]    2659         2349.0   \n",
       " 59        [2661, 2663]      [2658, 2664]    2665         2659.0   \n",
       " ...                ...               ...     ...            ...   \n",
       " 7645  [305957, 305961]  [305952, 305961]  305963       305519.0   \n",
       " 7698  [308234, 308237]  [308224, 308238]  308241       305963.0   \n",
       " 7777  [311379, 311386]  [311379, 311386]  311389       308241.0   \n",
       " 7812  [312626, 312632]  [312612, 312633]  312636       311389.0   \n",
       " 7836  [313813, 313821]  [313813, 313822]  313823       312636.0   \n",
       " \n",
       "       repeated_entry  entry_close                        exit  exit_point  \\\n",
       " 39                 0      3634.99       (3930, 3577.67, loss)        3930   \n",
       " 49                 0      3655.49       (2883, 3590.92, loss)        2883   \n",
       " 50                 0      3654.84       (2883, 3590.92, loss)        2883   \n",
       " 58                 0      3625.76     (4620, 3713.74, profit)        4620   \n",
       " 59                 0      3625.00     (4620, 3713.74, profit)        4620   \n",
       " ...              ...          ...                         ...         ...   \n",
       " 7645               0     47382.71    (306404, 46625.78, loss)      306404   \n",
       " 7698               0     41735.46    (308380, 41048.39, loss)      308380   \n",
       " 7777               0     40838.65    (311413, 40044.37, loss)      311413   \n",
       " 7812               0     36024.52  (312721, 36952.16, profit)      312721   \n",
       " 7836               0     37698.30  (313945, 38575.79, profit)      313945   \n",
       " \n",
       "       exit_close   PandL  \n",
       " 39       3577.67    loss  \n",
       " 49       3590.92    loss  \n",
       " 50       3590.92    loss  \n",
       " 58       3713.74  profit  \n",
       " 59       3713.74  profit  \n",
       " ...          ...     ...  \n",
       " 7645    46625.78    loss  \n",
       " 7698    41048.39    loss  \n",
       " 7777    40044.37    loss  \n",
       " 7812    36952.16  profit  \n",
       " 7836    38575.79  profit  \n",
       " \n",
       " [455 rows x 10 columns],\n",
       "            Close_range        MACD_range   entry  entry_shifted  \\\n",
       " 5         [1562, 1574]      [1566, 1574]    1576            NaN   \n",
       " 20        [6667, 6679]      [6666, 6680]    6682         1576.0   \n",
       " 21        [7255, 7270]      [7255, 7271]    7273         6682.0   \n",
       " 24        [8821, 8836]      [8822, 8837]    8844         7273.0   \n",
       " 25        [8846, 8854]      [8846, 8854]    8855         8844.0   \n",
       " ...                ...               ...     ...            ...   \n",
       " 1102  [307240, 307249]  [307241, 307250]  307251       306830.0   \n",
       " 1104  [307708, 307721]  [307715, 307721]  307723       307251.0   \n",
       " 1117  [310962, 310975]  [310967, 310976]  310977       307723.0   \n",
       " 1118  [310985, 310997]  [310976, 310998]  311002       310977.0   \n",
       " 1126  [313279, 313304]  [313300, 313304]  313305       311002.0   \n",
       " \n",
       "       repeated_entry  entry_close                        exit  exit_point  \\\n",
       " 5                  0      3420.77       (1915, 3473.38, loss)        1915   \n",
       " 20                 0      3803.45        (6845, 3862.0, loss)        6845   \n",
       " 21                 0      3819.05     (7446, 3724.68, profit)        7446   \n",
       " 24                 0      3723.00        (9086, 3795.0, loss)        9086   \n",
       " 25                 0      3722.64        (9086, 3795.0, loss)        9086   \n",
       " ...              ...          ...                         ...         ...   \n",
       " 1102               0     42879.23    (307315, 43523.92, loss)      307315   \n",
       " 1104               0     41870.34  (307865, 40842.12, profit)      307865   \n",
       " 1117               0     42189.87    (311284, 42939.47, loss)      311284   \n",
       " 1118               0     42220.96    (311284, 42939.47, loss)      311284   \n",
       " 1126               0     36851.52   (313356, 35909.9, profit)      313356   \n",
       " \n",
       "       exit_close   PandL  \n",
       " 5        3473.38    loss  \n",
       " 20       3862.00    loss  \n",
       " 21       3724.68  profit  \n",
       " 24       3795.00    loss  \n",
       " 25       3795.00    loss  \n",
       " ...          ...     ...  \n",
       " 1102    43523.92    loss  \n",
       " 1104    40842.12  profit  \n",
       " 1117    42939.47    loss  \n",
       " 1118    42939.47    loss  \n",
       " 1126    35909.90  profit  \n",
       " \n",
       " [180 rows x 10 columns])"
      ]
     },
     "execution_count": 288,
     "metadata": {},
     "output_type": "execute_result"
    }
   ],
   "source": [
    "df_bullish_final['exit_point'] = df_bullish_final['exit'].apply(lambda t: t[0])\n",
    "df_bullish_final['exit_close'] = df_bullish_final['exit'].apply(lambda t: t[1])\n",
    "df_bullish_final['PandL'] = df_bullish_final['exit'].apply(lambda t: t[-1])\n",
    "\n",
    "df_bearish_final['exit_point'] = df_bearish_final['exit'].apply(lambda t: t[0])\n",
    "df_bearish_final['exit_close'] = df_bearish_final['exit'].apply(lambda t: t[1])\n",
    "df_bearish_final['PandL'] = df_bearish_final['exit'].apply(lambda t: t[-1])\n",
    "\n",
    "df_bullish_final, df_bearish_final"
   ]
  },
  {
   "cell_type": "code",
   "execution_count": 289,
   "id": "8a546f45",
   "metadata": {},
   "outputs": [
    {
     "data": {
      "text/plain": [
       "(1    329\n",
       " 2     42\n",
       " 3     10\n",
       " 4      3\n",
       " Name: exit_point, dtype: int64,\n",
       " 1    157\n",
       " 2      7\n",
       " 3      3\n",
       " Name: exit_point, dtype: int64)"
      ]
     },
     "execution_count": 289,
     "metadata": {},
     "output_type": "execute_result"
    }
   ],
   "source": [
    "(df_bullish_final['exit_point'].value_counts().value_counts(), \n",
    " df_bearish_final['exit_point'].value_counts().value_counts())"
   ]
  },
  {
   "cell_type": "code",
   "execution_count": 290,
   "id": "056118cd",
   "metadata": {},
   "outputs": [
    {
     "data": {
      "text/plain": [
       "(profit    229\n",
       " loss      226\n",
       " Name: PandL, dtype: int64,\n",
       " loss      110\n",
       " profit     70\n",
       " Name: PandL, dtype: int64)"
      ]
     },
     "execution_count": 290,
     "metadata": {},
     "output_type": "execute_result"
    }
   ],
   "source": [
    "df_bullish_final['PandL'].value_counts(), df_bearish_final['PandL'].value_counts()"
   ]
  },
  {
   "cell_type": "code",
   "execution_count": 291,
   "id": "59f487f9",
   "metadata": {},
   "outputs": [
    {
     "data": {
      "text/plain": [
       "loss      336\n",
       "profit    299\n",
       "Name: PandL, dtype: int64"
      ]
     },
     "execution_count": 291,
     "metadata": {},
     "output_type": "execute_result"
    }
   ],
   "source": [
    "vc = df_bullish_final['PandL'].value_counts() + df_bearish_final['PandL'].value_counts()\n",
    "vc"
   ]
  },
  {
   "cell_type": "code",
   "execution_count": 292,
   "id": "7af64e22",
   "metadata": {},
   "outputs": [],
   "source": [
    "def PLsum(s):\n",
    "    if s == 'profit':\n",
    "        return 1 + 1.5*0.015\n",
    "    if s == 'loss':\n",
    "        return 1 - 0.015\n",
    "    "
   ]
  },
  {
   "cell_type": "code",
   "execution_count": 293,
   "id": "5ed02d10",
   "metadata": {},
   "outputs": [
    {
     "data": {
      "text/plain": [
       "4.829532959989992"
      ]
     },
     "execution_count": 293,
     "metadata": {},
     "output_type": "execute_result"
    }
   ],
   "source": [
    "s = (df_bullish_final['PandL'].map(PLsum).cumprod().iloc[-1]*\n",
    "     df_bearish_final['PandL'].map(PLsum).cumprod().iloc[-1])\n",
    "s"
   ]
  },
  {
   "cell_type": "code",
   "execution_count": 294,
   "id": "75a83ed3",
   "metadata": {},
   "outputs": [],
   "source": [
    "l = len(df_bullish_final) + len(df_bearish_final)"
   ]
  },
  {
   "cell_type": "code",
   "execution_count": 295,
   "id": "a2506a0a",
   "metadata": {},
   "outputs": [],
   "source": [
    "pp, pf = vc['profit']/vc.sum(), (1.5*1.5*vc['profit'])/(1.5*vc['loss'])"
   ]
  },
  {
   "cell_type": "code",
   "execution_count": 296,
   "id": "63267270",
   "metadata": {},
   "outputs": [
    {
     "data": {
      "text/plain": [
       "(635, 0.47086614173228347, 3.829532959989992, 1.3348214285714286)"
      ]
     },
     "execution_count": 296,
     "metadata": {},
     "output_type": "execute_result"
    }
   ],
   "source": [
    "l, pp, s-1, pf"
   ]
  },
  {
   "cell_type": "code",
   "execution_count": null,
   "id": "8a3ab800",
   "metadata": {},
   "outputs": [],
   "source": []
  }
 ],
 "metadata": {
  "kernelspec": {
   "display_name": "Python 3 (ipykernel)",
   "language": "python",
   "name": "python3"
  },
  "language_info": {
   "codemirror_mode": {
    "name": "ipython",
    "version": 3
   },
   "file_extension": ".py",
   "mimetype": "text/x-python",
   "name": "python",
   "nbconvert_exporter": "python",
   "pygments_lexer": "ipython3",
   "version": "3.8.10"
  }
 },
 "nbformat": 4,
 "nbformat_minor": 5
}
