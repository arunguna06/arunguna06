{
  "cells": [
    {
      "cell_type": "markdown",
      "metadata": {
        "id": "view-in-github",
        "colab_type": "text"
      },
      "source": [
        "<a href=\"https://colab.research.google.com/github/arunguna06/arunguna06/blob/main/Copy_of_Numpy_tasks.ipynb\" target=\"_parent\"><img src=\"https://colab.research.google.com/assets/colab-badge.svg\" alt=\"Open In Colab\"/></a>"
      ]
    },
    {
      "cell_type": "markdown",
      "metadata": {
        "id": "lddqbvYvhheM"
      },
      "source": [
        "# Numpy\n",
        "\n"
      ]
    },
    {
      "cell_type": "markdown",
      "metadata": {
        "id": "EKi9kbE3hheR"
      },
      "source": [
        "#### 1. Import the numpy package under the name `np` (★☆☆) \n",
        "(**hint**: import … as …)"
      ]
    },
    {
      "cell_type": "code",
      "execution_count": 45,
      "metadata": {
        "collapsed": true,
        "id": "KHOPs5VJhheS"
      },
      "outputs": [],
      "source": [
        "import numpy as np"
      ]
    },
    {
      "cell_type": "markdown",
      "metadata": {
        "id": "iWFN0-aAhheT"
      },
      "source": [
        "#### 2. Print the numpy version and the configuration (★☆☆) \n",
        "(**hint**: np.\\_\\_version\\_\\_, np.show\\_config)"
      ]
    },
    {
      "cell_type": "code",
      "execution_count": 46,
      "metadata": {
        "id": "7fJj4zgBhheU",
        "outputId": "c6bd376c-991c-4220-81ec-1e472143ba90",
        "colab": {
          "base_uri": "https://localhost:8080/"
        }
      },
      "outputs": [
        {
          "output_type": "stream",
          "name": "stdout",
          "text": [
            "1.19.5\n",
            "blas_mkl_info:\n",
            "  NOT AVAILABLE\n",
            "blis_info:\n",
            "  NOT AVAILABLE\n",
            "openblas_info:\n",
            "    libraries = ['openblas', 'openblas']\n",
            "    library_dirs = ['/usr/local/lib']\n",
            "    language = c\n",
            "    define_macros = [('HAVE_CBLAS', None)]\n",
            "blas_opt_info:\n",
            "    libraries = ['openblas', 'openblas']\n",
            "    library_dirs = ['/usr/local/lib']\n",
            "    language = c\n",
            "    define_macros = [('HAVE_CBLAS', None)]\n",
            "lapack_mkl_info:\n",
            "  NOT AVAILABLE\n",
            "openblas_lapack_info:\n",
            "    libraries = ['openblas', 'openblas']\n",
            "    library_dirs = ['/usr/local/lib']\n",
            "    language = c\n",
            "    define_macros = [('HAVE_CBLAS', None)]\n",
            "lapack_opt_info:\n",
            "    libraries = ['openblas', 'openblas']\n",
            "    library_dirs = ['/usr/local/lib']\n",
            "    language = c\n",
            "    define_macros = [('HAVE_CBLAS', None)]\n",
            "None\n"
          ]
        }
      ],
      "source": [
        "print(np.__version__)\n",
        "print(np.show_config())"
      ]
    },
    {
      "cell_type": "markdown",
      "metadata": {
        "id": "kVLBYjslhheU"
      },
      "source": [
        "#### 3. Create a null vector of size 10 (★☆☆) \n",
        "(**hint**: np.zeros)"
      ]
    },
    {
      "cell_type": "code",
      "execution_count": 47,
      "metadata": {
        "id": "ER06Zx3YhheV",
        "outputId": "8deb5667-0830-4f8c-86bc-7d5dc7fc6a0a",
        "colab": {
          "base_uri": "https://localhost:8080/"
        }
      },
      "outputs": [
        {
          "output_type": "stream",
          "name": "stdout",
          "text": [
            "[0. 0. 0. 0. 0. 0. 0. 0. 0. 0.]\n"
          ]
        }
      ],
      "source": [
        "x = np.zeros(10)\n",
        "print(x)"
      ]
    },
    {
      "cell_type": "markdown",
      "metadata": {
        "id": "ugpt3y8EhheV"
      },
      "source": [
        "#### 4.  How to find the memory size of any array (★☆☆) \n",
        "(**hint**: size, itemsize)"
      ]
    },
    {
      "cell_type": "code",
      "execution_count": 48,
      "metadata": {
        "id": "DxodoVMBhheW",
        "outputId": "70057b68-4d5d-4fc5-8e9f-e44960af9903",
        "colab": {
          "base_uri": "https://localhost:8080/"
        }
      },
      "outputs": [
        {
          "output_type": "stream",
          "name": "stdout",
          "text": [
            "8\n"
          ]
        }
      ],
      "source": [
        "x = np.array([1,2,3])\n",
        "print(x.itemsize)\n"
      ]
    },
    {
      "cell_type": "markdown",
      "metadata": {
        "id": "GVJgMIMxhheX"
      },
      "source": [
        "#### 5.  How to get the documentation of the numpy add function from the command line? (★☆☆) \n",
        "(**hint**: np.info)"
      ]
    },
    {
      "cell_type": "code",
      "execution_count": 49,
      "metadata": {
        "collapsed": true,
        "id": "TS-lOiHbhheX"
      },
      "outputs": [],
      "source": [
        "np.info(np.add)"
      ]
    },
    {
      "cell_type": "markdown",
      "metadata": {
        "id": "8hUsqvOWhheY"
      },
      "source": [
        "#### 6.  Create a null vector of size 10 but the fifth value which is 1 (★☆☆) \n",
        "(**hint**: array\\[4\\])"
      ]
    },
    {
      "cell_type": "code",
      "execution_count": 50,
      "metadata": {
        "id": "2y0kHpzKhheY",
        "outputId": "3b235aff-af82-4437-dd27-4ce7a60a7186",
        "colab": {
          "base_uri": "https://localhost:8080/"
        }
      },
      "outputs": [
        {
          "output_type": "stream",
          "name": "stdout",
          "text": [
            "[0. 0. 0. 0. 0. 0. 0. 0. 0. 0.]\n",
            "[0. 0. 0. 0. 0. 1. 0. 0. 0. 0.]\n"
          ]
        }
      ],
      "source": [
        "x = np.zeros(10)\n",
        "print(x)\n",
        "x[5] = 1\n",
        "print(x)"
      ]
    },
    {
      "cell_type": "markdown",
      "metadata": {
        "id": "yZLRtMrZhheZ"
      },
      "source": [
        "#### 7.  Create a vector with values ranging from 10 to 49 (★☆☆) \n",
        "(**hint**: np.arange)"
      ]
    },
    {
      "cell_type": "code",
      "execution_count": 51,
      "metadata": {
        "id": "aOWIcW_phheZ",
        "outputId": "fb793635-1637-45dc-8dbc-6f80c57e47ec",
        "colab": {
          "base_uri": "https://localhost:8080/"
        }
      },
      "outputs": [
        {
          "output_type": "stream",
          "name": "stdout",
          "text": [
            "[10 11 12 13 14 15 16 17 18 19 20 21 22 23 24 25 26 27 28 29 30 31 32 33\n",
            " 34 35 36 37 38 39 40 41 42 43 44 45 46 47 48 49]\n"
          ]
        }
      ],
      "source": [
        "import numpy as np\n",
        "v = np.arange(10,50)\n",
        "print(v)"
      ]
    },
    {
      "cell_type": "markdown",
      "metadata": {
        "id": "804u4HZIhhea"
      },
      "source": [
        "#### 8.  Reverse a vector (first element becomes last) (★☆☆) \n",
        "(**hint**: array\\[::-1\\])"
      ]
    },
    {
      "cell_type": "code",
      "execution_count": 52,
      "metadata": {
        "id": "0JxJi2VWhhea",
        "outputId": "212acee7-ccd8-4d58-9773-0941fc259715",
        "colab": {
          "base_uri": "https://localhost:8080/"
        }
      },
      "outputs": [
        {
          "output_type": "execute_result",
          "data": {
            "text/plain": [
              "array([49, 48, 47, 46, 45, 44, 43, 42, 41, 40, 39, 38, 37, 36, 35, 34, 33,\n",
              "       32, 31, 30, 29, 28, 27, 26, 25, 24, 23, 22, 21, 20, 19, 18, 17, 16,\n",
              "       15, 14, 13, 12, 11, 10])"
            ]
          },
          "metadata": {},
          "execution_count": 52
        }
      ],
      "source": [
        "res = v[::-1]\n",
        "res"
      ]
    },
    {
      "cell_type": "markdown",
      "metadata": {
        "id": "Y7ACLfOQhhea"
      },
      "source": [
        "#### 9.  Create a 3x3 matrix with values ranging from 0 to 8 (★☆☆) \n",
        "(**hint**: reshape)"
      ]
    },
    {
      "cell_type": "code",
      "execution_count": 53,
      "metadata": {
        "id": "l-cK2AEehhea",
        "outputId": "663e7821-80e6-404b-c518-918c754bc86c",
        "colab": {
          "base_uri": "https://localhost:8080/"
        }
      },
      "outputs": [
        {
          "output_type": "execute_result",
          "data": {
            "text/plain": [
              "array([[ 2,  3,  4],\n",
              "       [ 5,  6,  7],\n",
              "       [ 8,  9, 10]])"
            ]
          },
          "metadata": {},
          "execution_count": 53
        }
      ],
      "source": [
        "x =  np.arange(2, 11).reshape(3,3)\n",
        "x"
      ]
    },
    {
      "cell_type": "markdown",
      "metadata": {
        "id": "BokIbnBDhheb"
      },
      "source": [
        "#### 10. Find indices of non-zero elements from \\[1,2,0,0,4,0\\] (★☆☆) \n",
        "(**hint**: np.nonzero)"
      ]
    },
    {
      "cell_type": "code",
      "execution_count": 54,
      "metadata": {
        "id": "JwnaL272hheb",
        "outputId": "bb52002b-ccc2-4e58-af34-9f9e7f09f26f",
        "colab": {
          "base_uri": "https://localhost:8080/"
        }
      },
      "outputs": [
        {
          "output_type": "execute_result",
          "data": {
            "text/plain": [
              "(array([0, 0, 1]), array([0, 1, 1]))"
            ]
          },
          "metadata": {},
          "execution_count": 54
        }
      ],
      "source": [
        "n = np.array([[1,2,0],[0,4,0]])\n",
        "out = np.nonzero(n)\n",
        "out"
      ]
    },
    {
      "cell_type": "markdown",
      "metadata": {
        "id": "1MppDZ-vhheb"
      },
      "source": [
        "#### 11. Create a 3x3 identity matrix (★☆☆) \n",
        "(**hint**: np.eye)"
      ]
    },
    {
      "cell_type": "code",
      "execution_count": 55,
      "metadata": {
        "id": "I7oX8IZQhhec",
        "outputId": "8ba9f116-cfee-4bd8-c14e-7b36c92f707a",
        "colab": {
          "base_uri": "https://localhost:8080/"
        }
      },
      "outputs": [
        {
          "output_type": "stream",
          "name": "stdout",
          "text": [
            "[[1. 0. 0.]\n",
            " [0. 1. 0.]\n",
            " [0. 0. 1.]]\n"
          ]
        }
      ],
      "source": [
        "array_2D=np.identity(3)\n",
        "print(array_2D)"
      ]
    },
    {
      "cell_type": "markdown",
      "metadata": {
        "id": "8KvzYbgLhhec"
      },
      "source": [
        "#### 12. Create a 3x3x3 array with random values (★☆☆) \n",
        "(**hint**: np.random.random)"
      ]
    },
    {
      "cell_type": "code",
      "execution_count": 56,
      "metadata": {
        "collapsed": true,
        "id": "pu0d3abPhhec",
        "outputId": "101a69ad-96d3-4c7f-b836-1be58444a5f8",
        "colab": {
          "base_uri": "https://localhost:8080/"
        }
      },
      "outputs": [
        {
          "output_type": "stream",
          "name": "stdout",
          "text": [
            "[[[0.73812914 0.98676968 0.07537752]\n",
            "  [0.91200541 0.58522327 0.19815016]\n",
            "  [0.40130056 0.11563738 0.69058352]]\n",
            "\n",
            " [[0.52027911 0.52016055 0.41638845]\n",
            "  [0.77601686 0.19480966 0.20990313]\n",
            "  [0.50258487 0.57547649 0.95489542]]\n",
            "\n",
            " [[0.34906968 0.04532727 0.29984945]\n",
            "  [0.40496221 0.79271472 0.89920641]\n",
            "  [0.61425066 0.0776811  0.00355737]]]\n"
          ]
        }
      ],
      "source": [
        "x = np.random.random((3,3,3))\n",
        "print(x)"
      ]
    },
    {
      "cell_type": "markdown",
      "metadata": {
        "id": "N6Y6eL5ghhec"
      },
      "source": [
        "#### 13. Create a 10x10 array with random values and find the minimum and maximum values (★☆☆) \n",
        "(**hint**: min, max)"
      ]
    },
    {
      "cell_type": "code",
      "execution_count": 57,
      "metadata": {
        "id": "Y8ufVlJjhhed",
        "outputId": "9ece1805-9614-419e-a84c-98276253267b",
        "colab": {
          "base_uri": "https://localhost:8080/"
        }
      },
      "outputs": [
        {
          "output_type": "execute_result",
          "data": {
            "text/plain": [
              "array([0.13857522, 0.00036206, 0.08233199, 0.05706502, 0.0860213 ,\n",
              "       0.0259657 , 0.11510451, 0.15745237, 0.14444715, 0.13672462])"
            ]
          },
          "metadata": {},
          "execution_count": 57
        }
      ],
      "source": [
        "x = np.random.random((10,10))\n",
        "x\n",
        "max_element_column = np.max(x, 0)\n",
        "max_element_row = np.max(x, 1)\n",
        " \n",
        "min_element_column = np.amin(x, 0)\n",
        "min_element_row = np.amin(x, 1)\n",
        "max_element_column\n",
        "max_element_row\n",
        "min_element_column\n",
        "min_element_row"
      ]
    },
    {
      "cell_type": "markdown",
      "metadata": {
        "id": "yU5dx_2rhhed"
      },
      "source": [
        "#### 14. Create a random vector of size 30 and find the mean value (★☆☆) \n",
        "(**hint**: mean)"
      ]
    },
    {
      "cell_type": "code",
      "execution_count": 58,
      "metadata": {
        "id": "JuWAAYbrhhee",
        "outputId": "fa049210-6184-486f-f07e-9d009f65209f",
        "colab": {
          "base_uri": "https://localhost:8080/"
        }
      },
      "outputs": [
        {
          "output_type": "execute_result",
          "data": {
            "text/plain": [
              "0.6107680326565117"
            ]
          },
          "metadata": {},
          "execution_count": 58
        }
      ],
      "source": [
        "x = np.random.random(10)\n",
        "np.mean(x)\n"
      ]
    },
    {
      "cell_type": "markdown",
      "metadata": {
        "id": "H282GY7jhhee"
      },
      "source": [
        "#### 15. Create a 2d array with 1 on the border and 0 inside (★☆☆) \n",
        "(**hint**: array\\[1:-1, 1:-1\\])"
      ]
    },
    {
      "cell_type": "code",
      "execution_count": 59,
      "metadata": {
        "id": "Dhy8wnHxhhee",
        "outputId": "9eea3ab5-eb0a-4b3b-b03c-d49951a12cb8",
        "colab": {
          "base_uri": "https://localhost:8080/"
        }
      },
      "outputs": [
        {
          "output_type": "execute_result",
          "data": {
            "text/plain": [
              "array([[1., 1., 1., 1., 1.],\n",
              "       [1., 0., 0., 0., 1.],\n",
              "       [1., 0., 0., 0., 1.],\n",
              "       [1., 0., 0., 0., 1.],\n",
              "       [1., 1., 1., 1., 1.]])"
            ]
          },
          "metadata": {},
          "execution_count": 59
        }
      ],
      "source": [
        "x = np.ones((5,5))\n",
        "x[1:-1,1:-1] = 0\n",
        "x"
      ]
    },
    {
      "cell_type": "markdown",
      "metadata": {
        "id": "yRTVUMrhhhef"
      },
      "source": [
        "#### 16. How to add a border (filled with 0's) around an existing array? (★☆☆) \n",
        "(**hint**: np.pad)"
      ]
    },
    {
      "cell_type": "code",
      "execution_count": 60,
      "metadata": {
        "id": "mvs4VgKahhef",
        "outputId": "1c3b17f6-f019-4d12-cb3b-4825f8ea3b2b",
        "colab": {
          "base_uri": "https://localhost:8080/"
        }
      },
      "outputs": [
        {
          "output_type": "stream",
          "name": "stdout",
          "text": [
            "[[0. 0. 0. 0. 0.]\n",
            " [0. 1. 1. 1. 0.]\n",
            " [0. 1. 1. 1. 0.]\n",
            " [0. 1. 1. 1. 0.]\n",
            " [0. 0. 0. 0. 0.]]\n"
          ]
        }
      ],
      "source": [
        "x = np.ones((3,3))\n",
        "x = np.pad(x, pad_width=1)\n",
        "print(x)"
      ]
    },
    {
      "cell_type": "markdown",
      "metadata": {
        "id": "CqovgbSghhef"
      },
      "source": [
        "#### 17. What is the result of the following expression? (★☆☆) \n",
        "(**hint**: NaN = not a number, inf = infinity)"
      ]
    },
    {
      "cell_type": "markdown",
      "metadata": {
        "id": "TiHA9eoEhheg"
      },
      "source": [
        "```python\n",
        "0 * np.nan\n",
        "np.nan == np.nan\n",
        "np.inf > np.nan\n",
        "np.nan - np.nan\n",
        "0.3 == 3 * 0.1\n",
        "```"
      ]
    },
    {
      "cell_type": "code",
      "execution_count": 61,
      "metadata": {
        "id": "T83b0AUwhheg",
        "outputId": "9efe4ec2-3c87-4c60-a99b-0659039da172",
        "colab": {
          "base_uri": "https://localhost:8080/"
        }
      },
      "outputs": [
        {
          "output_type": "execute_result",
          "data": {
            "text/plain": [
              "False"
            ]
          },
          "metadata": {},
          "execution_count": 61
        }
      ],
      "source": [
        "0 * np.nan\n",
        "np.nan == np.nan\n",
        "np.inf > np.nan\n",
        "np.nan - np.nan\n",
        "0.3 == 3 * 0.1"
      ]
    },
    {
      "cell_type": "markdown",
      "metadata": {
        "id": "U39wEjQ-hheg"
      },
      "source": [
        "#### 18. Create a 5x5 matrix with values 1,2,3,4 just below the diagonal (★☆☆) \n",
        "(**hint**: np.diag)"
      ]
    },
    {
      "cell_type": "code",
      "execution_count": 62,
      "metadata": {
        "id": "8g0wKxPshheh",
        "outputId": "a67b7188-34b1-445f-8bb1-8f5994f7ce91",
        "colab": {
          "base_uri": "https://localhost:8080/"
        }
      },
      "outputs": [
        {
          "output_type": "execute_result",
          "data": {
            "text/plain": [
              "array([[1, 0, 0, 0, 0],\n",
              "       [0, 2, 0, 0, 0],\n",
              "       [0, 0, 3, 0, 0],\n",
              "       [0, 0, 0, 4, 0],\n",
              "       [0, 0, 0, 0, 5]])"
            ]
          },
          "metadata": {},
          "execution_count": 62
        }
      ],
      "source": [
        "x = np.diag([1, 2, 3, 4, 5])\n",
        "x"
      ]
    },
    {
      "cell_type": "markdown",
      "metadata": {
        "id": "9mcvNvkWhheh"
      },
      "source": [
        "#### 19. Create a 8x8 matrix and fill it with a checkerboard pattern (★☆☆) \n",
        "(**hint**: array\\[::2\\])"
      ]
    },
    {
      "cell_type": "code",
      "execution_count": 63,
      "metadata": {
        "id": "eFlFtx-Qhheh",
        "outputId": "a995bd82-ebd6-419a-ee76-5089b68d81d2",
        "colab": {
          "base_uri": "https://localhost:8080/"
        }
      },
      "outputs": [
        {
          "output_type": "execute_result",
          "data": {
            "text/plain": [
              "array([[0, 1, 0, 1, 0, 1, 0, 1],\n",
              "       [1, 0, 1, 0, 1, 0, 1, 0],\n",
              "       [0, 1, 0, 1, 0, 1, 0, 1],\n",
              "       [1, 0, 1, 0, 1, 0, 1, 0],\n",
              "       [0, 1, 0, 1, 0, 1, 0, 1],\n",
              "       [1, 0, 1, 0, 1, 0, 1, 0],\n",
              "       [0, 1, 0, 1, 0, 1, 0, 1],\n",
              "       [1, 0, 1, 0, 1, 0, 1, 0]])"
            ]
          },
          "metadata": {},
          "execution_count": 63
        }
      ],
      "source": [
        "x = np.ones((3,3))\n",
        "x = np.zeros((8,8),dtype=int)\n",
        "x[1::2,::2] = 1\n",
        "x[::2,1::2] = 1\n",
        "x"
      ]
    },
    {
      "cell_type": "markdown",
      "metadata": {
        "id": "WgprKa6Lhhei"
      },
      "source": [
        "#### 20. Consider a (6,7,8) shape array, what is the index (x,y,z) of the 100th element?\n",
        "\n",
        "> Indented block\n",
        "\n",
        "\n",
        "(**hint**: np.unravel_index)"
      ]
    },
    {
      "cell_type": "code",
      "execution_count": 63,
      "metadata": {
        "id": "pOjkLLeRhhei"
      },
      "outputs": [],
      "source": [
        ""
      ]
    },
    {
      "cell_type": "markdown",
      "metadata": {
        "id": "oLVP-0K8hhei"
      },
      "source": [
        "#### 21. Create a checkerboard 8x8 matrix using the tile function (★☆☆) \n",
        "(**hint**: np.tile)"
      ]
    },
    {
      "cell_type": "code",
      "execution_count": 63,
      "metadata": {
        "id": "7RfP0D5dhhej"
      },
      "outputs": [],
      "source": [
        ""
      ]
    },
    {
      "cell_type": "markdown",
      "metadata": {
        "id": "YvfRjxvkhhej"
      },
      "source": [
        "#### 22. Normalize a 5x5 random matrix (★☆☆) \n",
        "(**hint**: (x - min) / (max - min))"
      ]
    },
    {
      "cell_type": "code",
      "execution_count": 64,
      "metadata": {
        "id": "-s2QFZr2hhej",
        "outputId": "a19728df-ae86-43fb-e486-2ce5b5ae03ea",
        "colab": {
          "base_uri": "https://localhost:8080/"
        }
      },
      "outputs": [
        {
          "output_type": "execute_result",
          "data": {
            "text/plain": [
              "array([[0.14570734, 0.07823188, 0.05928097, 0.53334768, 0.88197287],\n",
              "       [0.98043527, 0.31368993, 0.47267179, 0.12818173, 0.43347213],\n",
              "       [0.77932409, 0.24737094, 0.04030087, 0.        , 1.        ],\n",
              "       [0.64050316, 0.22978164, 0.81262446, 0.28409774, 0.38398815],\n",
              "       [0.37239549, 0.01450877, 0.20711353, 0.05903799, 0.76570759]])"
            ]
          },
          "metadata": {},
          "execution_count": 64
        }
      ],
      "source": [
        "x = np.random.random((5,5))\n",
        "xmax, xmin = x.max(), x.min()\n",
        "x= (x-xmin)/(xmax-xmin)\n",
        "x"
      ]
    },
    {
      "cell_type": "markdown",
      "metadata": {
        "id": "MXvFJIszhhej"
      },
      "source": [
        "#### 23. Create a custom dtype that describes a color as four unsigned bytes (RGBA) (★☆☆) \n",
        "(**hint**: np.dtype)"
      ]
    },
    {
      "cell_type": "code",
      "execution_count": 64,
      "metadata": {
        "collapsed": true,
        "id": "4oPsIYgYhhek"
      },
      "outputs": [],
      "source": [
        ""
      ]
    },
    {
      "cell_type": "markdown",
      "metadata": {
        "id": "tqz1TKbVhhek"
      },
      "source": [
        "#### 24. Multiply a 5x3 matrix by a 3x2 matrix (real matrix product) (★☆☆) \n",
        "(**hint**: np.dot | @)"
      ]
    },
    {
      "cell_type": "code",
      "execution_count": 65,
      "metadata": {
        "id": "syNL4f3Khhek",
        "colab": {
          "base_uri": "https://localhost:8080/"
        },
        "outputId": "d9a178b2-399d-49a8-a042-85bb2a8f5f9f"
      },
      "outputs": [
        {
          "output_type": "execute_result",
          "data": {
            "text/plain": [
              "array([[0.96619453, 0.63175639],\n",
              "       [1.0247785 , 0.82878629],\n",
              "       [0.82338404, 0.60629894],\n",
              "       [0.8550465 , 0.77699499],\n",
              "       [0.36699929, 0.49792193]])"
            ]
          },
          "metadata": {},
          "execution_count": 65
        }
      ],
      "source": [
        "x = np.random.random((5,3))\n",
        "# print(x)\n",
        "y = np.random.random((3,2))\n",
        "# print(y)\n",
        "z = np.dot(x, y)\n",
        "z\n"
      ]
    },
    {
      "cell_type": "markdown",
      "metadata": {
        "id": "fbQbaNEghhek"
      },
      "source": [
        "#### 25. Given a 1D array, negate all elements which are between 3 and 8, in place. (★☆☆) \n",
        "(**hint**: >, <=)"
      ]
    },
    {
      "cell_type": "code",
      "execution_count": 66,
      "metadata": {
        "id": "jxN606iRhhel",
        "colab": {
          "base_uri": "https://localhost:8080/"
        },
        "outputId": "8a08c704-a0af-4c51-d77b-4a0d4b6576d5"
      },
      "outputs": [
        {
          "output_type": "execute_result",
          "data": {
            "text/plain": [
              "array([ 0,  1,  2,  3, -4, -5, -6, -7,  8,  9, 10])"
            ]
          },
          "metadata": {},
          "execution_count": 66
        }
      ],
      "source": [
        "x = np.arange(11)\n",
        "x[4:8] = np.multiply(x[4:8],-1)\n",
        "x"
      ]
    },
    {
      "cell_type": "markdown",
      "metadata": {
        "id": "pJCOIblnhhel"
      },
      "source": [
        "#### 26. What is the output of the following script? (★☆☆) \n",
        "(**hint**: np.sum)"
      ]
    },
    {
      "cell_type": "markdown",
      "metadata": {
        "id": "_7BDj0OZhhem"
      },
      "source": [
        "```python\n",
        "# Author: Jake VanderPlas\n",
        "\n",
        "print(sum(range(5),-1))\n",
        "from numpy import *\n",
        "print(sum(range(5),-1))\n",
        "```"
      ]
    },
    {
      "cell_type": "code",
      "execution_count": 67,
      "metadata": {
        "id": "5ctCIHpShhem",
        "colab": {
          "base_uri": "https://localhost:8080/"
        },
        "outputId": "e1b5350e-ae10-404e-c98d-730d96d0b8a6"
      },
      "outputs": [
        {
          "output_type": "stream",
          "name": "stdout",
          "text": [
            "10\n",
            "10\n"
          ]
        }
      ],
      "source": [
        "print(sum(range(5),-1))\n",
        "from numpy import *\n",
        "print(sum(range(5),-1))"
      ]
    },
    {
      "cell_type": "markdown",
      "metadata": {
        "id": "CiFeo2xmhhem"
      },
      "source": [
        "#### 27. Consider an integer vector Z, which of these expressions are legal? (★☆☆)"
      ]
    },
    {
      "cell_type": "markdown",
      "metadata": {
        "id": "1ySZl1amhhem"
      },
      "source": [
        "```python\n",
        "Z**Z\n",
        "2 << Z >> 2\n",
        "Z <- Z\n",
        "1j*Z\n",
        "Z/1/1\n",
        "Z<Z>Z\n",
        "```"
      ]
    },
    {
      "cell_type": "code",
      "execution_count": 67,
      "metadata": {
        "id": "d3YmJHmrhhen"
      },
      "outputs": [],
      "source": [
        ""
      ]
    },
    {
      "cell_type": "markdown",
      "metadata": {
        "id": "KtGWwf57hhen"
      },
      "source": [
        "#### 28. What are the result of the following expressions?"
      ]
    },
    {
      "cell_type": "markdown",
      "metadata": {
        "id": "-Pjwrzjlhhen"
      },
      "source": [
        "```python\n",
        "np.array(0) / np.array(0)\n",
        "np.array(0) // np.array(0)\n",
        "np.array([np.nan]).astype(int).astype(float)\n",
        "```"
      ]
    },
    {
      "cell_type": "code",
      "execution_count": 67,
      "metadata": {
        "id": "NSOYqTS4hheo"
      },
      "outputs": [],
      "source": [
        ""
      ]
    },
    {
      "cell_type": "markdown",
      "metadata": {
        "id": "TTfjj9xxhheo"
      },
      "source": [
        "#### 29. How to round away from zero a float array ? (★☆☆) \n",
        "(**hint**: np.uniform, np.copysign, np.ceil, np.abs)"
      ]
    },
    {
      "cell_type": "code",
      "execution_count": 68,
      "metadata": {
        "id": "0trnV4mChheo",
        "colab": {
          "base_uri": "https://localhost:8080/"
        },
        "outputId": "32601604-3107-4449-d762-cae0b700d8ac"
      },
      "outputs": [
        {
          "output_type": "stream",
          "name": "stdout",
          "text": [
            "[-4. 13. 14.  5. -7. -3.  3.]\n"
          ]
        }
      ],
      "source": [
        "x = np.random.uniform(-7,+17,7)\n",
        "print (np.copysign(np.ceil(np.abs(x)), x))"
      ]
    },
    {
      "cell_type": "markdown",
      "metadata": {
        "id": "O0g3Zyomhheo"
      },
      "source": [
        "#### 30. How to find common values between two arrays? (★☆☆) \n",
        "(**hint**: np.intersect1d)"
      ]
    },
    {
      "cell_type": "code",
      "execution_count": 69,
      "metadata": {
        "id": "-RttcDTFhhep",
        "colab": {
          "base_uri": "https://localhost:8080/"
        },
        "outputId": "51dfd026-3c9a-4c26-9701-3efb418a5441"
      },
      "outputs": [
        {
          "output_type": "stream",
          "name": "stdout",
          "text": [
            "[0 1]\n"
          ]
        }
      ],
      "source": [
        "x1 = np.random.randint(0,5,5)\n",
        "\n",
        "x2 = np.random.randint(0,5,5)\n",
        "\n",
        "print(np.intersect1d(x1,x2))"
      ]
    },
    {
      "cell_type": "markdown",
      "metadata": {
        "id": "NwyMcKQehhep"
      },
      "source": [
        "#### 31. How to ignore all numpy warnings (not recommended)? (★☆☆) \n",
        "(**hint**: np.seterr, np.errstate)"
      ]
    },
    {
      "cell_type": "code",
      "execution_count": 70,
      "metadata": {
        "id": "v5szP2Enhhep"
      },
      "outputs": [],
      "source": [
        "defaults = np.seterr(all=\"ignore\")\n",
        "x = np.ones(1) / 0\n",
        "_ = np.seterr(**defaults)"
      ]
    },
    {
      "cell_type": "markdown",
      "metadata": {
        "id": "AfXZIKfKhhep"
      },
      "source": [
        "#### 32. Is the following expressions true? (★☆☆) \n",
        "(**hint**: imaginary number)"
      ]
    },
    {
      "cell_type": "markdown",
      "metadata": {
        "id": "55JMzv9shhep"
      },
      "source": [
        "```python\n",
        "np.sqrt(-1) == np.emath.sqrt(-1)\n",
        "```"
      ]
    },
    {
      "cell_type": "code",
      "execution_count": 71,
      "metadata": {
        "id": "5XsRhz2Shhep",
        "colab": {
          "base_uri": "https://localhost:8080/"
        },
        "outputId": "7af06879-2c9e-4c8c-f42e-21e8ad330d45"
      },
      "outputs": [
        {
          "output_type": "execute_result",
          "data": {
            "text/plain": [
              "False"
            ]
          },
          "metadata": {},
          "execution_count": 71
        }
      ],
      "source": [
        "False"
      ]
    },
    {
      "cell_type": "markdown",
      "metadata": {
        "id": "laXdCLmUhheq"
      },
      "source": [
        "#### 33. How to get the dates of yesterday, today and tomorrow? (★☆☆) \n",
        "(**hint**: np.datetime64, np.timedelta64)"
      ]
    },
    {
      "cell_type": "code",
      "execution_count": 72,
      "metadata": {
        "collapsed": true,
        "id": "JUayalBYhheq"
      },
      "outputs": [],
      "source": [
        "yesterday = np.datetime64('today', 'D') - np.timedelta64(1, 'D')\n",
        "today = np.datetime64('today', 'D')\n",
        "tomorrow = np.datetime64('today', 'D') + np.timedelta64(1, 'D')"
      ]
    },
    {
      "cell_type": "markdown",
      "metadata": {
        "id": "gFeBmtZ5hheq"
      },
      "source": [
        "#### 34. How to get all the dates corresponding to the month of July 2016? (★★☆) \n",
        "(**hint**: np.arange(dtype=datetime64\\['D'\\]))"
      ]
    },
    {
      "cell_type": "code",
      "execution_count": 73,
      "metadata": {
        "id": "5-oSesRphheq",
        "colab": {
          "base_uri": "https://localhost:8080/"
        },
        "outputId": "69ee6c7d-02d2-4e7f-e741-f0fd9f4993b7"
      },
      "outputs": [
        {
          "output_type": "stream",
          "name": "stdout",
          "text": [
            "['2016-07-01' '2016-07-02' '2016-07-03' '2016-07-04' '2016-07-05'\n",
            " '2016-07-06' '2016-07-07' '2016-07-08' '2016-07-09' '2016-07-10'\n",
            " '2016-07-11' '2016-07-12' '2016-07-13' '2016-07-14' '2016-07-15'\n",
            " '2016-07-16' '2016-07-17' '2016-07-18' '2016-07-19' '2016-07-20'\n",
            " '2016-07-21' '2016-07-22' '2016-07-23' '2016-07-24' '2016-07-25'\n",
            " '2016-07-26' '2016-07-27' '2016-07-28' '2016-07-29' '2016-07-30'\n",
            " '2016-07-31']\n"
          ]
        }
      ],
      "source": [
        "x = np.arange('2016-07', '2016-08', dtype='datetime64[D]')\n",
        "print(x)"
      ]
    },
    {
      "cell_type": "markdown",
      "metadata": {
        "id": "ZWk6MxLYhheq"
      },
      "source": [
        "#### 35. How to compute ((A+B)\\*(-A/2)) in place (without copy)? (★★☆) \n",
        "(**hint**: np.add(out=), np.negative(out=), np.multiply(out=), np.divide(out=))"
      ]
    },
    {
      "cell_type": "code",
      "execution_count": 73,
      "metadata": {
        "id": "UC94KG8Qhher"
      },
      "outputs": [],
      "source": [
        ""
      ]
    },
    {
      "cell_type": "markdown",
      "metadata": {
        "id": "Gjk9c4XShher"
      },
      "source": [
        "#### 36. Extract the integer part of a random array using 5 different methods (★★☆) \n",
        "(**hint**: %, np.floor, np.ceil, astype, np.trunc)"
      ]
    },
    {
      "cell_type": "code",
      "execution_count": 73,
      "metadata": {
        "id": "ommfz4Nhhher"
      },
      "outputs": [],
      "source": [
        ""
      ]
    },
    {
      "cell_type": "markdown",
      "metadata": {
        "id": "1xsXh4j3hher"
      },
      "source": [
        "#### 37. Create a 5x5 matrix with row values ranging from 0 to 4 (★★☆) \n",
        "(**hint**: np.arange)"
      ]
    },
    {
      "cell_type": "code",
      "execution_count": 74,
      "metadata": {
        "id": "6ZDbqBlzhher",
        "colab": {
          "base_uri": "https://localhost:8080/"
        },
        "outputId": "ab05f262-dcce-4168-b08b-30c2abe1a7d2"
      },
      "outputs": [
        {
          "output_type": "execute_result",
          "data": {
            "text/plain": [
              "array([[0., 1., 2., 3., 4.],\n",
              "       [0., 1., 2., 3., 4.],\n",
              "       [0., 1., 2., 3., 4.],\n",
              "       [0., 1., 2., 3., 4.],\n",
              "       [0., 1., 2., 3., 4.]])"
            ]
          },
          "metadata": {},
          "execution_count": 74
        }
      ],
      "source": [
        "x = np.zeros((5,5))\n",
        "x += np.arange(5)\n",
        "x"
      ]
    },
    {
      "cell_type": "markdown",
      "metadata": {
        "id": "UJpdyZA0hher"
      },
      "source": [
        "#### 38. Consider a generator function that generates 10 integers and use it to build an array (★☆☆) \n",
        "(**hint**: np.fromiter)"
      ]
    },
    {
      "cell_type": "code",
      "execution_count": 74,
      "metadata": {
        "id": "CB_13JSShhes"
      },
      "outputs": [],
      "source": [
        ""
      ]
    },
    {
      "cell_type": "markdown",
      "metadata": {
        "id": "Odc8saihhhes"
      },
      "source": [
        "#### 39. Create a vector of size 10 with values ranging from 0 to 1, both excluded (★★☆) \n",
        "(**hint**: np.linspace)"
      ]
    },
    {
      "cell_type": "code",
      "execution_count": 75,
      "metadata": {
        "id": "bSaEMcn-hhes",
        "colab": {
          "base_uri": "https://localhost:8080/"
        },
        "outputId": "2811394f-50bf-4dd9-bbe7-41a058d9b486"
      },
      "outputs": [
        {
          "output_type": "execute_result",
          "data": {
            "text/plain": [
              "array([0.09090909, 0.18181818, 0.27272727, 0.36363636, 0.45454545,\n",
              "       0.54545455, 0.63636364, 0.72727273, 0.81818182, 0.90909091])"
            ]
          },
          "metadata": {},
          "execution_count": 75
        }
      ],
      "source": [
        "x = np.linspace(0,1,12,endpoint=True)[1:-1]\n",
        "x"
      ]
    },
    {
      "cell_type": "markdown",
      "metadata": {
        "id": "maFoe1Mlhhes"
      },
      "source": [
        "#### 40. Create a random vector of size 10 and sort it (★★☆) \n",
        "(**hint**: sort)"
      ]
    },
    {
      "cell_type": "code",
      "execution_count": 76,
      "metadata": {
        "id": "K-D3YcoDhhes",
        "colab": {
          "base_uri": "https://localhost:8080/"
        },
        "outputId": "64eec5ad-0c60-473b-ba6e-6a62e7ddebf9"
      },
      "outputs": [
        {
          "output_type": "execute_result",
          "data": {
            "text/plain": [
              "array([0.05844299, 0.16664324, 0.18588454, 0.32209148, 0.53666087,\n",
              "       0.70317325, 0.73853579, 0.76113447, 0.785347  , 0.79607637])"
            ]
          },
          "metadata": {},
          "execution_count": 76
        }
      ],
      "source": [
        "x = np.random.random(10)\n",
        "x.sort()\n",
        "x"
      ]
    },
    {
      "cell_type": "markdown",
      "metadata": {
        "id": "AlzgioV9hhes"
      },
      "source": [
        "#### 41. How to sum a small array faster than np.sum? (★★☆) \n",
        "(**hint**: np.add.reduce)"
      ]
    },
    {
      "cell_type": "code",
      "execution_count": 77,
      "metadata": {
        "id": "kLPkHzfBhhet",
        "colab": {
          "base_uri": "https://localhost:8080/"
        },
        "outputId": "253411f7-dca4-4045-856a-e0677e211bf9"
      },
      "outputs": [
        {
          "output_type": "execute_result",
          "data": {
            "text/plain": [
              "28"
            ]
          },
          "metadata": {},
          "execution_count": 77
        }
      ],
      "source": [
        "x = np.arange(8)\n",
        "np.add.reduce(x)"
      ]
    },
    {
      "cell_type": "markdown",
      "metadata": {
        "id": "aVcxM7Q8hhet"
      },
      "source": [
        "#### 42. Consider two random array A and B, check if they are equal (★★☆) \n",
        "(**hint**: np.allclose, np.array\\_equal)"
      ]
    },
    {
      "cell_type": "code",
      "execution_count": 78,
      "metadata": {
        "id": "hBGJU0TVhhet",
        "colab": {
          "base_uri": "https://localhost:8080/"
        },
        "outputId": "683fe506-0fba-42fa-f714-9a7a3a51e944"
      },
      "outputs": [
        {
          "output_type": "execute_result",
          "data": {
            "text/plain": [
              "False"
            ]
          },
          "metadata": {},
          "execution_count": 78
        }
      ],
      "source": [
        "A = np.random.randint(0,2,5)\n",
        "B = np.random.randint(0,2,5)\n",
        "x = np.allclose(A,B)\n",
        "x"
      ]
    },
    {
      "cell_type": "markdown",
      "metadata": {
        "id": "aK8Vnjpohhet"
      },
      "source": [
        "#### 43. Make an array immutable (read-only) (★★☆) \n",
        "(**hint**: flags.writeable)"
      ]
    },
    {
      "cell_type": "code",
      "execution_count": 79,
      "metadata": {
        "id": "nFY6w8cthhet",
        "colab": {
          "base_uri": "https://localhost:8080/",
          "height": 200
        },
        "outputId": "f01d3b0d-b2b3-400f-cbbd-25600bf40a34"
      },
      "outputs": [
        {
          "output_type": "error",
          "ename": "ValueError",
          "evalue": "ignored",
          "traceback": [
            "\u001b[0;31m---------------------------------------------------------------------------\u001b[0m",
            "\u001b[0;31mValueError\u001b[0m                                Traceback (most recent call last)",
            "\u001b[0;32m<ipython-input-79-e5280283d1b0>\u001b[0m in \u001b[0;36m<module>\u001b[0;34m()\u001b[0m\n\u001b[1;32m      3\u001b[0m \u001b[0mZ\u001b[0m\u001b[0;34m.\u001b[0m\u001b[0mflags\u001b[0m\u001b[0;34m.\u001b[0m\u001b[0mwriteable\u001b[0m \u001b[0;34m=\u001b[0m \u001b[0;32mFalse\u001b[0m\u001b[0;34m\u001b[0m\u001b[0;34m\u001b[0m\u001b[0m\n\u001b[1;32m      4\u001b[0m \u001b[0;34m\u001b[0m\u001b[0m\n\u001b[0;32m----> 5\u001b[0;31m \u001b[0mZ\u001b[0m\u001b[0;34m[\u001b[0m\u001b[0;36m0\u001b[0m\u001b[0;34m]\u001b[0m \u001b[0;34m=\u001b[0m \u001b[0;36m1\u001b[0m\u001b[0;34m\u001b[0m\u001b[0;34m\u001b[0m\u001b[0m\n\u001b[0m",
            "\u001b[0;31mValueError\u001b[0m: assignment destination is read-only"
          ]
        }
      ],
      "source": [
        "Z = np.zeros(10)\n",
        "\n",
        "Z.flags.writeable = False\n",
        "\n",
        "Z[0] = 1"
      ]
    },
    {
      "cell_type": "markdown",
      "metadata": {
        "id": "-n5YK57whhet"
      },
      "source": [
        "#### 44. Consider a random 10x2 matrix representing cartesian coordinates, convert them to polar coordinates (★★☆) \n",
        "(**hint**: np.sqrt, np.arctan2)"
      ]
    },
    {
      "cell_type": "code",
      "execution_count": 79,
      "metadata": {
        "id": "heLsl2Kmhheu"
      },
      "outputs": [],
      "source": [
        ""
      ]
    },
    {
      "cell_type": "markdown",
      "metadata": {
        "id": "2oMoOuprhheu"
      },
      "source": [
        "#### 45. Create random vector of size 10 and replace the maximum value by 0 (★★☆) \n",
        "(**hint**: argmax)"
      ]
    },
    {
      "cell_type": "code",
      "execution_count": 80,
      "metadata": {
        "id": "wQr9IQmWhheu",
        "colab": {
          "base_uri": "https://localhost:8080/"
        },
        "outputId": "4346e4b7-716b-4616-d5b1-2b1e7d559daa"
      },
      "outputs": [
        {
          "output_type": "stream",
          "name": "stdout",
          "text": [
            "[0.18792161 0.05324505 0.69577269 0.77188566 0.03197686 0.61932554\n",
            " 0.53518897 0.         0.41764338 0.24516681]\n"
          ]
        }
      ],
      "source": [
        "Z = np.random.random(10)\n",
        "\n",
        "Z[Z.argmax()] = 0\n",
        "\n",
        "print(Z)"
      ]
    },
    {
      "cell_type": "markdown",
      "metadata": {
        "id": "S-e_9UyPhheu"
      },
      "source": [
        "#### 46. Create a structured array with `x` and `y` coordinates covering the \\[0,1\\]x\\[0,1\\] area (★★☆) \n",
        "(**hint**: np.meshgrid)"
      ]
    },
    {
      "cell_type": "code",
      "execution_count": 80,
      "metadata": {
        "id": "5xKkhtyZhheu"
      },
      "outputs": [],
      "source": [
        ""
      ]
    },
    {
      "cell_type": "markdown",
      "metadata": {
        "id": "kYa7N6lShheu"
      },
      "source": [
        "####  47. Given two arrays, X and Y, construct the Cauchy matrix C (Cij =1/(xi - yj)) \n",
        "(**hint**: np.subtract.outer)"
      ]
    },
    {
      "cell_type": "code",
      "execution_count": 80,
      "metadata": {
        "id": "_Oog6J_mhheu"
      },
      "outputs": [],
      "source": [
        ""
      ]
    },
    {
      "cell_type": "markdown",
      "metadata": {
        "id": "ku5H_O-xhhev"
      },
      "source": [
        "#### 48. Print the minimum and maximum representable value for each numpy scalar type (★★☆) \n",
        "(**hint**: np.iinfo, np.finfo, eps)"
      ]
    },
    {
      "cell_type": "code",
      "execution_count": 80,
      "metadata": {
        "id": "fYSVvcULhhev"
      },
      "outputs": [],
      "source": [
        ""
      ]
    },
    {
      "cell_type": "markdown",
      "metadata": {
        "id": "fg60mapthhev"
      },
      "source": [
        "#### 49. How to print all the values of an array? (★★☆) \n",
        "(**hint**: np.set\\_printoptions)"
      ]
    },
    {
      "cell_type": "code",
      "execution_count": null,
      "metadata": {
        "id": "jqRvuZJ4hhev"
      },
      "outputs": [],
      "source": [
        "np.set_printoptions(threshold=np.nan)\n",
        "\n",
        "Z = np.zeros((16,16))\n",
        "\n",
        "print(Z)"
      ]
    },
    {
      "cell_type": "markdown",
      "metadata": {
        "id": "UqlClmj-hhev"
      },
      "source": [
        "#### 50. How to find the closest value (to a given scalar) in a vector? (★★☆) \n",
        "(**hint**: argmin)"
      ]
    },
    {
      "cell_type": "code",
      "execution_count": 84,
      "metadata": {
        "id": "Gzj-DS1chhev",
        "colab": {
          "base_uri": "https://localhost:8080/"
        },
        "outputId": "d1c36bf6-10c6-4f39-81d4-4fc6a18a9e77"
      },
      "outputs": [
        {
          "output_type": "stream",
          "name": "stdout",
          "text": [
            "20\n"
          ]
        }
      ],
      "source": [
        "Z = np.arange(100)\n",
        "\n",
        "v = np.random.uniform(0,100)\n",
        "\n",
        "index = (np.abs(Z-v)).argmin()\n",
        "\n",
        "print(Z[index])"
      ]
    },
    {
      "cell_type": "markdown",
      "metadata": {
        "id": "UYDFQ6z_hhew"
      },
      "source": [
        "#### 51. Create a structured array representing a position (x,y) and a color (r,g,b) (★★☆) \n",
        "(**hint**: dtype)"
      ]
    },
    {
      "cell_type": "code",
      "execution_count": 84,
      "metadata": {
        "id": "j5pxYgbehhew"
      },
      "outputs": [],
      "source": [
        ""
      ]
    },
    {
      "cell_type": "markdown",
      "metadata": {
        "id": "6RCcCUuthhew"
      },
      "source": [
        "#### 52. Consider a random vector with shape (100,2) representing coordinates, find point by point distances (★★☆) \n",
        "(**hint**: np.atleast\\_2d, T, np.sqrt)"
      ]
    },
    {
      "cell_type": "code",
      "execution_count": 84,
      "metadata": {
        "id": "sk9ND7E_hhew"
      },
      "outputs": [],
      "source": [
        ""
      ]
    },
    {
      "cell_type": "markdown",
      "metadata": {
        "id": "OLKq--2Fhhew"
      },
      "source": [
        "#### 53. How to convert a float (32 bits) array into an integer (32 bits) in place? \n",
        "(**hint**: astype(copy=False))"
      ]
    },
    {
      "cell_type": "code",
      "execution_count": 85,
      "metadata": {
        "id": "XysOfjxuhhex",
        "colab": {
          "base_uri": "https://localhost:8080/"
        },
        "outputId": "f6bc51c8-5743-4eec-fce4-1aedcb7258eb"
      },
      "outputs": [
        {
          "output_type": "stream",
          "name": "stdout",
          "text": [
            "[0. 1. 2. 3. 4. 5. 6. 7. 8. 9.]\n"
          ]
        }
      ],
      "source": [
        "Z = np.arange(10, dtype=np.int32)\n",
        "\n",
        "Z = Z.astype(np.float32, copy=False)\n",
        "\n",
        "print(Z)"
      ]
    },
    {
      "cell_type": "markdown",
      "metadata": {
        "id": "N8h7MqRQhhex"
      },
      "source": [
        "#### 54. How to read the following file? (★★☆) \n",
        "(**hint**: np.genfromtxt)"
      ]
    },
    {
      "cell_type": "markdown",
      "metadata": {
        "id": "TJtCzxVZhhex"
      },
      "source": [
        "```\n",
        "1, 2, 3, 4, 5\n",
        "6,  ,  , 7, 8\n",
        " ,  , 9,10,11\n",
        "```"
      ]
    },
    {
      "cell_type": "code",
      "execution_count": 85,
      "metadata": {
        "id": "e9wmpQmHhhex"
      },
      "outputs": [],
      "source": [
        ""
      ]
    },
    {
      "cell_type": "markdown",
      "metadata": {
        "id": "gqvKee-ehhex"
      },
      "source": [
        "#### 55. What is the equivalent of enumerate for numpy arrays? (★★☆) \n",
        "(**hint**: np.ndenumerate, np.ndindex)"
      ]
    },
    {
      "cell_type": "code",
      "execution_count": 83,
      "metadata": {
        "id": "ZQAf_c4qhhex",
        "colab": {
          "base_uri": "https://localhost:8080/"
        },
        "outputId": "70a3bc35-fbcb-43c5-a28e-3bcadc63a099"
      },
      "outputs": [
        {
          "output_type": "stream",
          "name": "stdout",
          "text": [
            "(0, 0) 0\n",
            "(0, 1) 1\n",
            "(0, 2) 2\n",
            "(1, 0) 3\n",
            "(1, 1) 4\n",
            "(1, 2) 5\n",
            "(2, 0) 6\n",
            "(2, 1) 7\n",
            "(2, 2) 8\n",
            "(0, 0) 0\n",
            "(0, 1) 1\n",
            "(0, 2) 2\n",
            "(1, 0) 3\n",
            "(1, 1) 4\n",
            "(1, 2) 5\n",
            "(2, 0) 6\n",
            "(2, 1) 7\n",
            "(2, 2) 8\n"
          ]
        }
      ],
      "source": [
        "Z = np.arange(9).reshape(3,3)\n",
        "\n",
        "for index, value in np.ndenumerate(Z):\n",
        "\n",
        "  print(index, value)\n",
        "\n",
        "for index in np.ndindex(Z.shape):\n",
        "\n",
        "  print(index, Z[index])"
      ]
    },
    {
      "cell_type": "markdown",
      "metadata": {
        "id": "CP5to4aohhey"
      },
      "source": [
        "#### 56. Generate a generic 2D Gaussian-like array (★★☆) \n",
        "(**hint**: np.meshgrid, np.exp)"
      ]
    },
    {
      "cell_type": "code",
      "execution_count": 86,
      "metadata": {
        "id": "LWUWIMdlhhey",
        "colab": {
          "base_uri": "https://localhost:8080/"
        },
        "outputId": "e1da223e-9131-4a99-d5f0-c488706ee562"
      },
      "outputs": [
        {
          "output_type": "stream",
          "name": "stdout",
          "text": [
            "[[0.36787944 0.44822088 0.51979489 0.57375342 0.60279818 0.60279818\n",
            "  0.57375342 0.51979489 0.44822088 0.36787944]\n",
            " [0.44822088 0.54610814 0.63331324 0.69905581 0.73444367 0.73444367\n",
            "  0.69905581 0.63331324 0.54610814 0.44822088]\n",
            " [0.51979489 0.63331324 0.73444367 0.81068432 0.85172308 0.85172308\n",
            "  0.81068432 0.73444367 0.63331324 0.51979489]\n",
            " [0.57375342 0.69905581 0.81068432 0.89483932 0.9401382  0.9401382\n",
            "  0.89483932 0.81068432 0.69905581 0.57375342]\n",
            " [0.60279818 0.73444367 0.85172308 0.9401382  0.98773022 0.98773022\n",
            "  0.9401382  0.85172308 0.73444367 0.60279818]\n",
            " [0.60279818 0.73444367 0.85172308 0.9401382  0.98773022 0.98773022\n",
            "  0.9401382  0.85172308 0.73444367 0.60279818]\n",
            " [0.57375342 0.69905581 0.81068432 0.89483932 0.9401382  0.9401382\n",
            "  0.89483932 0.81068432 0.69905581 0.57375342]\n",
            " [0.51979489 0.63331324 0.73444367 0.81068432 0.85172308 0.85172308\n",
            "  0.81068432 0.73444367 0.63331324 0.51979489]\n",
            " [0.44822088 0.54610814 0.63331324 0.69905581 0.73444367 0.73444367\n",
            "  0.69905581 0.63331324 0.54610814 0.44822088]\n",
            " [0.36787944 0.44822088 0.51979489 0.57375342 0.60279818 0.60279818\n",
            "  0.57375342 0.51979489 0.44822088 0.36787944]]\n"
          ]
        }
      ],
      "source": [
        "X, Y = np.meshgrid(np.linspace(-1,1,10), np.linspace(-1,1,10))\n",
        "\n",
        "D = np.sqrt(X*X+Y*Y)\n",
        "\n",
        "sigma, mu = 1.0, 0.0\n",
        "\n",
        "G = np.exp(-( (D-mu)**2 / ( 2.0 * sigma**2 ) ) )\n",
        "\n",
        "print(G)"
      ]
    },
    {
      "cell_type": "markdown",
      "metadata": {
        "id": "DPgbNdZshhey"
      },
      "source": [
        "#### 57. How to randomly place p elements in a 2D array? (★★☆) \n",
        "(**hint**: np.put, np.random.choice)"
      ]
    },
    {
      "cell_type": "code",
      "execution_count": 87,
      "metadata": {
        "id": "J7xImK6Rhhey",
        "colab": {
          "base_uri": "https://localhost:8080/"
        },
        "outputId": "c4fe336e-41f0-4680-948f-67735efabd04"
      },
      "outputs": [
        {
          "output_type": "stream",
          "name": "stdout",
          "text": [
            "[[0. 0. 0. 0. 0. 0. 0. 0. 0. 0.]\n",
            " [0. 0. 0. 0. 0. 0. 0. 0. 0. 0.]\n",
            " [0. 0. 0. 0. 0. 0. 0. 0. 0. 0.]\n",
            " [1. 1. 0. 0. 0. 0. 0. 0. 0. 0.]\n",
            " [0. 0. 0. 0. 0. 0. 0. 0. 0. 0.]\n",
            " [0. 0. 0. 0. 0. 0. 0. 0. 0. 0.]\n",
            " [0. 0. 0. 0. 0. 1. 0. 0. 0. 0.]\n",
            " [0. 0. 0. 0. 0. 0. 0. 0. 0. 0.]\n",
            " [0. 0. 0. 0. 0. 0. 0. 0. 0. 0.]\n",
            " [0. 0. 0. 0. 0. 0. 0. 0. 0. 0.]]\n"
          ]
        }
      ],
      "source": [
        "n = 10\n",
        "\n",
        "p = 3\n",
        "\n",
        "Z = np.zeros((n,n))\n",
        "\n",
        "np.put(Z, np.random.choice(range(n*n), p, replace=False),1)\n",
        "\n",
        "print(Z)"
      ]
    },
    {
      "cell_type": "markdown",
      "metadata": {
        "id": "OJUTgup1hhey"
      },
      "source": [
        "#### 58. Subtract the mean of each row of a matrix (★★☆) \n",
        "(**hint**: mean(axis=,keepdims=))"
      ]
    },
    {
      "cell_type": "code",
      "execution_count": 88,
      "metadata": {
        "id": "Tpwk6qjyhhey",
        "colab": {
          "base_uri": "https://localhost:8080/"
        },
        "outputId": "3a695d09-3d41-42f6-a662-1582afefb891"
      },
      "outputs": [
        {
          "output_type": "stream",
          "name": "stdout",
          "text": [
            "[[-0.31054986  0.52506109  0.29161743 -0.33940092 -0.18392389  0.47351749\n",
            "   0.27135801 -0.40173114 -0.38537594  0.05942773]\n",
            " [-0.0340076  -0.2275613   0.29652635  0.31259436 -0.06005872  0.13763744\n",
            "   0.05298598 -0.30761269 -0.46080939  0.29030558]\n",
            " [-0.10721593 -0.23398113  0.16289464 -0.18755959 -0.4343436   0.12566272\n",
            "  -0.22324233  0.36454896  0.38389639  0.14933986]\n",
            " [-0.36561904  0.42185501 -0.24981478 -0.10049057  0.40349141  0.07322733\n",
            "  -0.46268701  0.00976018 -0.01857189  0.28884934]\n",
            " [ 0.37166932  0.30485696  0.44659997  0.32524234 -0.49255072 -0.31594069\n",
            "   0.37947412 -0.13007609 -0.51033633 -0.37893888]]\n"
          ]
        }
      ],
      "source": [
        "X = np.random.rand(5, 10)\n",
        "\n",
        "# Recent versions of numpy\n",
        "\n",
        "Y = X - X.mean(axis=1, keepdims=True)\n",
        "\n",
        "# Older versions of numpy\n",
        "\n",
        "Y = X - X.mean(axis=1).reshape(-1, 1)\n",
        "\n",
        "print(Y)"
      ]
    },
    {
      "cell_type": "markdown",
      "metadata": {
        "id": "uBhQoBbwhhey"
      },
      "source": [
        "#### 59. How to sort an array by the nth column? (★★☆) \n",
        "(**hint**: argsort)"
      ]
    },
    {
      "cell_type": "code",
      "execution_count": 89,
      "metadata": {
        "id": "8JuIeqcKhhez",
        "colab": {
          "base_uri": "https://localhost:8080/"
        },
        "outputId": "e0fc2c10-9f88-4bf6-a025-53fa3118d9fe"
      },
      "outputs": [
        {
          "output_type": "stream",
          "name": "stdout",
          "text": [
            "[[1 6 7]\n",
            " [3 2 3]\n",
            " [2 3 9]]\n",
            "[[3 2 3]\n",
            " [2 3 9]\n",
            " [1 6 7]]\n"
          ]
        }
      ],
      "source": [
        "Z = np.random.randint(0,10,(3,3))\n",
        "\n",
        "print(Z)\n",
        "\n",
        "print(Z[Z[:,1].argsort()])"
      ]
    },
    {
      "cell_type": "markdown",
      "metadata": {
        "id": "feLNJgeKhhez"
      },
      "source": [
        "#### 60. How to tell if a given 2D array has null columns? (★★☆) \n",
        "(**hint**: any, ~)"
      ]
    },
    {
      "cell_type": "code",
      "execution_count": 90,
      "metadata": {
        "id": "sG_av6Szhhez",
        "colab": {
          "base_uri": "https://localhost:8080/"
        },
        "outputId": "73e952d7-f5d0-42cc-94c2-dc3cd9b80de0"
      },
      "outputs": [
        {
          "output_type": "stream",
          "name": "stdout",
          "text": [
            "False\n"
          ]
        }
      ],
      "source": [
        "Z = np.random.randint(0,3,(3,10))\n",
        "\n",
        "print((~Z.any(axis=0)).any())"
      ]
    },
    {
      "cell_type": "markdown",
      "metadata": {
        "id": "SHiXxId2hhez"
      },
      "source": [
        "#### 61. Find the nearest value from a given value in an array (★★☆) \n",
        "(**hint**: np.abs, argmin, flat)"
      ]
    },
    {
      "cell_type": "code",
      "execution_count": 91,
      "metadata": {
        "id": "98pBjgsmhhez",
        "colab": {
          "base_uri": "https://localhost:8080/"
        },
        "outputId": "15a681ca-b5f9-4cfd-a971-e6b61e8ac028"
      },
      "outputs": [
        {
          "output_type": "stream",
          "name": "stdout",
          "text": [
            "0.5328238440729871\n"
          ]
        }
      ],
      "source": [
        "Z = np.random.uniform(0,1,10)\n",
        "\n",
        "z = 0.5\n",
        "\n",
        "m = Z.flat[np.abs(Z - z).argmin()]\n",
        "\n",
        "print(m)"
      ]
    },
    {
      "cell_type": "markdown",
      "metadata": {
        "id": "9LDPPDaPhhez"
      },
      "source": [
        "#### 62. Considering two arrays with shape (1,3) and (3,1), how to compute their sum using an iterator? (★★☆) \n",
        "(**hint**: np.nditer)"
      ]
    },
    {
      "cell_type": "code",
      "execution_count": 92,
      "metadata": {
        "id": "-aRFFu9xhhe0",
        "colab": {
          "base_uri": "https://localhost:8080/"
        },
        "outputId": "e2c73c1d-8083-4c25-de5a-1696eca77443"
      },
      "outputs": [
        {
          "output_type": "stream",
          "name": "stdout",
          "text": [
            "[[0 1 2]\n",
            " [1 2 3]\n",
            " [2 3 4]]\n"
          ]
        }
      ],
      "source": [
        "A = np.arange(3).reshape(3,1)\n",
        "\n",
        "B = np.arange(3).reshape(1,3)\n",
        "\n",
        "it = np.nditer([A,B,None])\n",
        "\n",
        "for x,y,z in it: z[...] = x + y\n",
        "\n",
        "print(it.operands[2])"
      ]
    },
    {
      "cell_type": "markdown",
      "metadata": {
        "id": "ApdJ_sZphhe0"
      },
      "source": [
        "#### 63. Create an array class that has a name attribute (★★☆) \n",
        "(**hint**: class method)"
      ]
    },
    {
      "cell_type": "code",
      "execution_count": 93,
      "metadata": {
        "id": "_LgzjnjShhe0",
        "colab": {
          "base_uri": "https://localhost:8080/",
          "height": 130
        },
        "outputId": "5fc7fdbc-3e8a-4584-b2b9-e55ed8cc04e6"
      },
      "outputs": [
        {
          "output_type": "error",
          "ename": "IndentationError",
          "evalue": "ignored",
          "traceback": [
            "\u001b[0;36m  File \u001b[0;32m\"<ipython-input-93-6e3effaa45da>\"\u001b[0;36m, line \u001b[0;32m3\u001b[0m\n\u001b[0;31m    def __new__(cls, array, name=\"no name\"):\u001b[0m\n\u001b[0m      ^\u001b[0m\n\u001b[0;31mIndentationError\u001b[0m\u001b[0;31m:\u001b[0m expected an indented block\n"
          ]
        }
      ],
      "source": [
        "class NamedArray(np.ndarray):\n",
        "\n",
        "def __new__(cls, array, name=\"no name\"):\n",
        "\n",
        "obj = np.asarray(array).view(cls)\n",
        "\n",
        "obj.name = name\n",
        "\n",
        "return obj\n",
        "\n",
        "def __array_finalize__(self, obj):\n",
        "\n",
        "if obj is None: return\n",
        "\n",
        "http://self.info = getattr(obj, 'name', \"no name\")\n",
        "\n",
        "Z = NamedArray(np.arange(10), \"range_10\")\n",
        "\n",
        "print (Z.name)"
      ]
    },
    {
      "cell_type": "markdown",
      "metadata": {
        "id": "RgElnFvkhhe0"
      },
      "source": [
        "#### 64. Consider a given vector, how to add 1 to each element indexed by a second vector (be careful with repeated indices)? (★★★) \n",
        "(**hint**: np.bincount | np.add.at)"
      ]
    },
    {
      "cell_type": "code",
      "execution_count": 94,
      "metadata": {
        "id": "KE6lewGNhhe0",
        "colab": {
          "base_uri": "https://localhost:8080/"
        },
        "outputId": "8a2c5244-d6f8-4b53-bfd4-fc82a1c31d8d"
      },
      "outputs": [
        {
          "output_type": "stream",
          "name": "stdout",
          "text": [
            "[3. 3. 2. 3. 2. 4. 1. 5. 3. 4.]\n"
          ]
        }
      ],
      "source": [
        "Z = np.ones(10)\n",
        "\n",
        "I = np.random.randint(0,len(Z),20)\n",
        "\n",
        "Z += np.bincount(I, minlength=len(Z))\n",
        "\n",
        "print(Z)"
      ]
    },
    {
      "cell_type": "markdown",
      "metadata": {
        "id": "za81s4vZhhe0"
      },
      "source": [
        "#### 65. How to accumulate elements of a vector (X) to an array (F) based on an index list (I)? (★★★) \n",
        "(**hint**: np.bincount)"
      ]
    },
    {
      "cell_type": "code",
      "execution_count": 95,
      "metadata": {
        "id": "cy3Lzc3shhe1",
        "colab": {
          "base_uri": "https://localhost:8080/"
        },
        "outputId": "19176370-5378-447b-bb0c-a38364fe4cf9"
      },
      "outputs": [
        {
          "output_type": "stream",
          "name": "stdout",
          "text": [
            "[0. 7. 0. 6. 5. 0. 0. 0. 0. 3.]\n"
          ]
        }
      ],
      "source": [
        "X = [1,2,3,4,5,6]\n",
        "\n",
        "I = [1,3,9,3,4,1]\n",
        "\n",
        "F = np.bincount(I,X)\n",
        "\n",
        "print(F)"
      ]
    },
    {
      "cell_type": "markdown",
      "metadata": {
        "id": "lAiWxXGlhhe1"
      },
      "source": [
        "#### 66. Considering a (w,h,3) image of (dtype=ubyte), compute the number of unique colors (★★★) \n",
        "(**hint**: np.unique)"
      ]
    },
    {
      "cell_type": "code",
      "execution_count": 96,
      "metadata": {
        "id": "2mm0JOzahhe1",
        "colab": {
          "base_uri": "https://localhost:8080/"
        },
        "outputId": "42501016-07d5-4613-87d8-40a64f61630a"
      },
      "outputs": [
        {
          "output_type": "stream",
          "name": "stdout",
          "text": [
            "[0 1]\n"
          ]
        }
      ],
      "source": [
        "w,h = 16,16\n",
        "\n",
        "I = np.random.randint(0,2,(h,w,3)).astype(np.ubyte)\n",
        "\n",
        "F = I[...,0]*256*256 + I[...,1]*256 +I[...,2]\n",
        "\n",
        "n = len(np.unique(F))\n",
        "\n",
        "print(np.unique(I))\n",
        "\n"
      ]
    },
    {
      "cell_type": "markdown",
      "metadata": {
        "id": "NspN2jpwhhe1"
      },
      "source": [
        "#### 67. Considering a four dimensions array, how to get sum over the last two axis at once? (★★★) \n",
        "(**hint**: sum(axis=(-2,-1)))"
      ]
    },
    {
      "cell_type": "code",
      "execution_count": null,
      "metadata": {
        "id": "Z8cJGYKOhhe1"
      },
      "outputs": [],
      "source": [
        ""
      ]
    },
    {
      "cell_type": "markdown",
      "metadata": {
        "id": "-To8NU6khhe1"
      },
      "source": [
        "#### 68. Considering a one-dimensional vector D, how to compute means of subsets of D using a vector S of same size describing subset  indices? (★★★) \n",
        "(**hint**: np.bincount)"
      ]
    },
    {
      "cell_type": "code",
      "execution_count": 97,
      "metadata": {
        "id": "n4jhz-gshhe2",
        "colab": {
          "base_uri": "https://localhost:8080/"
        },
        "outputId": "cdfd5a92-6716-47f9-8734-a851c86cff12"
      },
      "outputs": [
        {
          "output_type": "stream",
          "name": "stdout",
          "text": [
            "[0.63072815 0.53512761 0.59458059 0.4274453  0.39594514 0.68233274\n",
            " 0.51582021 0.50272065 0.40113721 0.51267801]\n"
          ]
        }
      ],
      "source": [
        "D = np.random.uniform(0,1,100)\n",
        "\n",
        "S = np.random.randint(0,10,100)\n",
        "\n",
        "D_sums = np.bincount(S, weights=D)\n",
        "\n",
        "D_counts = np.bincount(S)\n",
        "\n",
        "D_means = D_sums / D_counts\n",
        "\n",
        "print(D_means)"
      ]
    },
    {
      "cell_type": "markdown",
      "metadata": {
        "id": "M1Kjp3Nchhe2"
      },
      "source": [
        "#### 69. How to get the diagonal of a dot product? (★★★) \n",
        "(**hint**: np.diag)"
      ]
    },
    {
      "cell_type": "code",
      "execution_count": 98,
      "metadata": {
        "id": "vbE50WBlhhe2",
        "colab": {
          "base_uri": "https://localhost:8080/"
        },
        "outputId": "fa04045d-efd9-45b9-9c3a-bf909e5d6f39"
      },
      "outputs": [
        {
          "output_type": "execute_result",
          "data": {
            "text/plain": [
              "array([1.41815401, 1.38309774, 2.06663266, 1.04056444, 1.17499265])"
            ]
          },
          "metadata": {},
          "execution_count": 98
        }
      ],
      "source": [
        "A = np.random.uniform(0,1,(5,5))\n",
        "\n",
        "B = np.random.uniform(0,1,(5,5))\n",
        "\n",
        "np.diag(np.dot(A, B))"
      ]
    },
    {
      "cell_type": "markdown",
      "metadata": {
        "id": "MBMcHJcMhhe2"
      },
      "source": [
        "#### 70. Consider the vector \\[1, 2, 3, 4, 5\\], how to build a new vector with 3 consecutive zeros interleaved between each value? (★★★) \n",
        "(**hint**: array\\[::4\\])"
      ]
    },
    {
      "cell_type": "code",
      "execution_count": 99,
      "metadata": {
        "id": "1honRiS2hhe3",
        "colab": {
          "base_uri": "https://localhost:8080/"
        },
        "outputId": "86dc04a6-4fb9-41fd-d563-3d51634fc439"
      },
      "outputs": [
        {
          "output_type": "stream",
          "name": "stdout",
          "text": [
            "[1. 0. 0. 0. 2. 0. 0. 0. 3. 0. 0. 0. 4. 0. 0. 0. 5.]\n"
          ]
        }
      ],
      "source": [
        "Z = np.array([1,2,3,4,5])\n",
        "\n",
        "nz = 3\n",
        "\n",
        "Z0 = np.zeros(len(Z) + (len(Z)-1)*(nz))\n",
        "\n",
        "Z0[::nz+1] = Z\n",
        "\n",
        "print(Z0)"
      ]
    },
    {
      "cell_type": "markdown",
      "metadata": {
        "id": "xXoFKPJthhe3"
      },
      "source": [
        "#### 71. Consider an array of dimension (5,5,3), how to mulitply it by an array with dimensions (5,5)? (★★★) \n",
        "(**hint**: array\\[:, :, None\\])"
      ]
    },
    {
      "cell_type": "code",
      "execution_count": 100,
      "metadata": {
        "collapsed": true,
        "id": "ZNbl3zvQhhe3",
        "colab": {
          "base_uri": "https://localhost:8080/"
        },
        "outputId": "21c07635-8de6-419b-de63-9ca667a79181"
      },
      "outputs": [
        {
          "output_type": "stream",
          "name": "stdout",
          "text": [
            "[[[2. 2. 2.]\n",
            "  [2. 2. 2.]\n",
            "  [2. 2. 2.]\n",
            "  [2. 2. 2.]\n",
            "  [2. 2. 2.]]\n",
            "\n",
            " [[2. 2. 2.]\n",
            "  [2. 2. 2.]\n",
            "  [2. 2. 2.]\n",
            "  [2. 2. 2.]\n",
            "  [2. 2. 2.]]\n",
            "\n",
            " [[2. 2. 2.]\n",
            "  [2. 2. 2.]\n",
            "  [2. 2. 2.]\n",
            "  [2. 2. 2.]\n",
            "  [2. 2. 2.]]\n",
            "\n",
            " [[2. 2. 2.]\n",
            "  [2. 2. 2.]\n",
            "  [2. 2. 2.]\n",
            "  [2. 2. 2.]\n",
            "  [2. 2. 2.]]\n",
            "\n",
            " [[2. 2. 2.]\n",
            "  [2. 2. 2.]\n",
            "  [2. 2. 2.]\n",
            "  [2. 2. 2.]\n",
            "  [2. 2. 2.]]]\n"
          ]
        }
      ],
      "source": [
        "A = np.ones((5,5,3))\n",
        "\n",
        "B = 2*np.ones((5,5))\n",
        "\n",
        "print(A * B[:,:,None])"
      ]
    },
    {
      "cell_type": "markdown",
      "metadata": {
        "id": "6sVm4yWOhhe3"
      },
      "source": [
        "#### 72. How to swap two rows of an array? (★★★) \n",
        "(**hint**: array\\[\\[\\]\\] = array\\[\\[\\]\\])"
      ]
    },
    {
      "cell_type": "code",
      "execution_count": 101,
      "metadata": {
        "id": "KW8KfSZChhe4",
        "colab": {
          "base_uri": "https://localhost:8080/"
        },
        "outputId": "9c2d81d1-7df2-445c-eb23-42c40f683698"
      },
      "outputs": [
        {
          "output_type": "stream",
          "name": "stdout",
          "text": [
            "[[ 5  6  7  8  9]\n",
            " [ 0  1  2  3  4]\n",
            " [10 11 12 13 14]\n",
            " [15 16 17 18 19]\n",
            " [20 21 22 23 24]]\n"
          ]
        }
      ],
      "source": [
        "\n",
        "\n",
        "A = np.arange(25).reshape(5,5)\n",
        "\n",
        "A[[0,1]] = A[[1,0]]\n",
        "\n",
        "print(A)"
      ]
    },
    {
      "cell_type": "markdown",
      "metadata": {
        "id": "zl_2Jpwrhhe4"
      },
      "source": [
        "#### 73. Consider a set of 10 triplets describing 10 triangles (with shared vertices), find the set of unique line segments composing all the  triangles (★★★) \n",
        "(**hint**: repeat, np.roll, np.sort, view, np.unique)"
      ]
    },
    {
      "cell_type": "code",
      "execution_count": 102,
      "metadata": {
        "id": "cjzDJC95hhe6",
        "colab": {
          "base_uri": "https://localhost:8080/"
        },
        "outputId": "c8d3fc18-5808-421e-de90-0c43eb52190a"
      },
      "outputs": [
        {
          "output_type": "stream",
          "name": "stdout",
          "text": [
            "[( 0,  1) ( 0, 46) ( 0, 54) ( 0, 99) ( 1, 99) ( 2, 62) ( 2, 79) ( 5, 10)\n",
            " ( 5, 36) ( 5, 68) ( 5, 69) (10, 69) (11, 31) (11, 34) (13, 65) (13, 95)\n",
            " (21, 30) (21, 79) (26, 31) (26, 41) (30, 79) (31, 34) (31, 41) (36, 68)\n",
            " (39, 63) (39, 71) (46, 54) (62, 79) (63, 71) (65, 95)]\n"
          ]
        }
      ],
      "source": [
        "faces = np.random.randint(0,100,(10,3))\n",
        "\n",
        "F = np.roll(faces.repeat(2,axis=1),-1,axis=1)\n",
        "\n",
        "F = F.reshape(len(F)*3,2)\n",
        "\n",
        "F = np.sort(F,axis=1)\n",
        "\n",
        "G = F.view( dtype=[('p0',F.dtype),('p1',F.dtype)] )\n",
        "\n",
        "G = np.unique(G)\n",
        "\n",
        "print(G)"
      ]
    },
    {
      "cell_type": "markdown",
      "metadata": {
        "id": "0HEvVDpAhhe7"
      },
      "source": [
        "#### 74. Given an array C that is a bincount, how to produce an array A such that np.bincount(A) == C? (★★★) \n",
        "(**hint**: np.repeat)"
      ]
    },
    {
      "cell_type": "code",
      "execution_count": 103,
      "metadata": {
        "id": "sHB-mvxahhe8",
        "colab": {
          "base_uri": "https://localhost:8080/"
        },
        "outputId": "224afdfa-96ab-49d6-faf6-a947a3a230b5"
      },
      "outputs": [
        {
          "output_type": "stream",
          "name": "stdout",
          "text": [
            "[1 1 2 3 4 4 6]\n"
          ]
        }
      ],
      "source": [
        "C = np.bincount([1,1,2,3,4,4,6])\n",
        "\n",
        "A = np.repeat(np.arange(len(C)), C)\n",
        "\n",
        "print(A)"
      ]
    },
    {
      "cell_type": "markdown",
      "metadata": {
        "id": "d3bDMpjAhhe8"
      },
      "source": [
        "#### 75. How to compute averages using a sliding window over an array? (★★★) \n",
        "(**hint**: np.cumsum)"
      ]
    },
    {
      "cell_type": "code",
      "execution_count": 104,
      "metadata": {
        "id": "drE6_wgdhhe8",
        "colab": {
          "base_uri": "https://localhost:8080/",
          "height": 130
        },
        "outputId": "a294cbdf-9605-4738-a7e9-94ba50cac56b"
      },
      "outputs": [
        {
          "output_type": "error",
          "ename": "IndentationError",
          "evalue": "ignored",
          "traceback": [
            "\u001b[0;36m  File \u001b[0;32m\"<ipython-input-104-249db70a5a02>\"\u001b[0;36m, line \u001b[0;32m3\u001b[0m\n\u001b[0;31m    ret = np.cumsum(a, dtype=float)\u001b[0m\n\u001b[0m      ^\u001b[0m\n\u001b[0;31mIndentationError\u001b[0m\u001b[0;31m:\u001b[0m expected an indented block\n"
          ]
        }
      ],
      "source": [
        "def moving_average(a, n=3) :\n",
        "\n",
        "ret = np.cumsum(a, dtype=float)\n",
        "\n",
        "ret[n:] = ret[n:] - ret[:-n]\n",
        "\n",
        "return ret[n - 1:] / n\n",
        "\n",
        "Z = np.arange(20)\n",
        "\n",
        "print(moving_average(Z, n=3))"
      ]
    },
    {
      "cell_type": "markdown",
      "metadata": {
        "id": "BqZ3p4ePhhe8"
      },
      "source": [
        "#### 76. Consider a one-dimensional array Z, build a two-dimensional array whose first row is (Z\\[0\\],Z\\[1\\],Z\\[2\\]) and each subsequent row is  shifted by 1 (last row should be (Z\\[-3\\],Z\\[-2\\],Z\\[-1\\]) (★★★) \n",
        "(**hint**: from numpy.lib import stride_tricks)"
      ]
    },
    {
      "cell_type": "code",
      "execution_count": 105,
      "metadata": {
        "id": "K8mXvvsnhhe8",
        "colab": {
          "base_uri": "https://localhost:8080/",
          "height": 130
        },
        "outputId": "3a3be44b-27d7-41ba-d4b5-a45e7ba579b0"
      },
      "outputs": [
        {
          "output_type": "error",
          "ename": "IndentationError",
          "evalue": "ignored",
          "traceback": [
            "\u001b[0;36m  File \u001b[0;32m\"<ipython-input-105-4534d27e2e2f>\"\u001b[0;36m, line \u001b[0;32m5\u001b[0m\n\u001b[0;31m    shape = (a.size - window + 1, window)\u001b[0m\n\u001b[0m        ^\u001b[0m\n\u001b[0;31mIndentationError\u001b[0m\u001b[0;31m:\u001b[0m expected an indented block\n"
          ]
        }
      ],
      "source": [
        "from numpy.lib import stride_tricks\n",
        "\n",
        "def rolling(a, window):\n",
        "\n",
        "shape = (a.size - window + 1, window)\n",
        "\n",
        "strides = (a.itemsize, a.itemsize)\n",
        "\n",
        "return stride_tricks.as_strided(a, shape=shape, strides=strides)\n",
        "\n",
        "Z = rolling(np.arange(10), 3)\n",
        "\n",
        "print(Z)"
      ]
    },
    {
      "cell_type": "markdown",
      "metadata": {
        "id": "3kAG7Y7Ehhe9"
      },
      "source": [
        "#### 77. How to negate a boolean, or to change the sign of a float inplace? (★★★) \n",
        "(**hint**: np.logical_not, np.negative)"
      ]
    },
    {
      "cell_type": "code",
      "execution_count": 106,
      "metadata": {
        "id": "7FnaSfaKhhe9",
        "colab": {
          "base_uri": "https://localhost:8080/"
        },
        "outputId": "c8b40914-63d0-4976-a28a-b4abed966d6b"
      },
      "outputs": [
        {
          "output_type": "execute_result",
          "data": {
            "text/plain": [
              "array([-0.18988802,  0.32022344, -0.80599052,  0.89576149,  0.20210431,\n",
              "       -0.67683724, -0.19264565, -0.98047225, -0.01005876,  0.19803315,\n",
              "       -0.6921268 ,  0.27473804,  0.95901369,  0.30336852,  0.64159305,\n",
              "        0.96545865,  0.70685553,  0.51446592, -0.95184288, -0.1418247 ,\n",
              "        0.56528303,  0.49677809,  0.2908785 , -0.93793801,  0.8958374 ,\n",
              "        0.97644211, -0.79389583, -0.55704342,  0.09529808, -0.21885257,\n",
              "        0.30742053,  0.32001781,  0.4542355 ,  0.693495  ,  0.60658289,\n",
              "       -0.36932425, -0.84919427,  0.33031596, -0.0102804 , -0.80159038,\n",
              "       -0.55742209,  0.60160129,  0.62199157, -0.72512213,  0.16626889,\n",
              "        0.00439384,  0.43734688,  0.46421571, -0.80227504, -0.69121025,\n",
              "        0.01769648,  0.76310119, -0.60220358, -0.20385509, -0.16119577,\n",
              "       -0.26498532,  0.6701223 , -0.17010014, -0.13100009,  0.63401742,\n",
              "        0.85013988, -0.10436513,  0.95865903,  0.36820648, -0.55257616,\n",
              "       -0.88212707,  0.14699013,  0.7516571 , -0.99784454, -0.60553179,\n",
              "        0.59768302, -0.15694049, -0.04145768, -0.91069428, -0.17730902,\n",
              "       -0.74860846,  0.58043777,  0.46703826, -0.31139329,  0.44003726,\n",
              "        0.0690738 ,  0.59846518, -0.78433278,  0.78450922, -0.20617425,\n",
              "       -0.10793116,  0.31948371,  0.15937368,  0.10089872,  0.51288344,\n",
              "        0.61322919, -0.91303104, -0.92222686,  0.39308589, -0.66396441,\n",
              "        0.88986619,  0.93061781,  0.09029818,  0.10337595,  0.81047633])"
            ]
          },
          "metadata": {},
          "execution_count": 106
        }
      ],
      "source": [
        "Z = np.random.randint(0,2,100)\n",
        "\n",
        "np.logical_not(Z, out=Z)\n",
        "\n",
        "Z = np.random.uniform(-1.0,1.0,100)\n",
        "\n",
        "np.negative(Z, out=Z)"
      ]
    },
    {
      "cell_type": "markdown",
      "metadata": {
        "id": "7RPqWQw6hhe9"
      },
      "source": [
        "#### 78. Consider 2 sets of points P0,P1 describing lines (2d) and a point p, how to compute distance from p to each line i  (P0\\[i\\],P1\\[i\\])? (★★★)"
      ]
    },
    {
      "cell_type": "code",
      "execution_count": 107,
      "metadata": {
        "id": "KtpcE71ihhe9",
        "colab": {
          "base_uri": "https://localhost:8080/",
          "height": 130
        },
        "outputId": "64099887-12ef-4cd8-db1f-69251f3342a9"
      },
      "outputs": [
        {
          "output_type": "error",
          "ename": "IndentationError",
          "evalue": "ignored",
          "traceback": [
            "\u001b[0;36m  File \u001b[0;32m\"<ipython-input-107-d54168f779b0>\"\u001b[0;36m, line \u001b[0;32m3\u001b[0m\n\u001b[0;31m    T = P1 - P0\u001b[0m\n\u001b[0m    ^\u001b[0m\n\u001b[0;31mIndentationError\u001b[0m\u001b[0;31m:\u001b[0m expected an indented block\n"
          ]
        }
      ],
      "source": [
        "def distance(P0, P1, p):\n",
        "\n",
        "T = P1 - P0\n",
        "\n",
        "L = (T**2).sum(axis=1)\n",
        "\n",
        "U = -((P0[:,0]-p[...,0])*T[:,0] + (P0[:,1]-p[...,1])*T[:,1]) / L\n",
        "\n",
        "U = U.reshape(len(U),1)\n",
        "\n",
        "D = P0 + U*T - p\n",
        "\n",
        "return np.sqrt((D**2).sum(axis=1))\n",
        "\n",
        "P0 = np.random.uniform(-10,10,(10,2))\n",
        "\n",
        "P1 = np.random.uniform(-10,10,(10,2))\n",
        "\n",
        "p = np.random.uniform(-10,10,( 1,2))\n",
        "\n",
        "print(distance(P0, P1, p))"
      ]
    },
    {
      "cell_type": "markdown",
      "metadata": {
        "id": "M5YgwH8Ehhe9"
      },
      "source": [
        "#### 79. Consider 2 sets of points P0,P1 describing lines (2d) and a set of points P, how to compute distance from each point j (P\\[j\\]) to each line i (P0\\[i\\],P1\\[i\\])? (★★★)"
      ]
    },
    {
      "cell_type": "code",
      "execution_count": 108,
      "metadata": {
        "id": "6y_tcarihhe-",
        "colab": {
          "base_uri": "https://localhost:8080/",
          "height": 287
        },
        "outputId": "5d7d2e97-4694-41ab-ce43-a36c73b8832f"
      },
      "outputs": [
        {
          "output_type": "error",
          "ename": "NameError",
          "evalue": "ignored",
          "traceback": [
            "\u001b[0;31m---------------------------------------------------------------------------\u001b[0m",
            "\u001b[0;31mNameError\u001b[0m                                 Traceback (most recent call last)",
            "\u001b[0;32m<ipython-input-108-d845b0ed4387>\u001b[0m in \u001b[0;36m<module>\u001b[0;34m()\u001b[0m\n\u001b[1;32m      5\u001b[0m \u001b[0mp\u001b[0m \u001b[0;34m=\u001b[0m \u001b[0mnp\u001b[0m\u001b[0;34m.\u001b[0m\u001b[0mrandom\u001b[0m\u001b[0;34m.\u001b[0m\u001b[0muniform\u001b[0m\u001b[0;34m(\u001b[0m\u001b[0;34m-\u001b[0m\u001b[0;36m10\u001b[0m\u001b[0;34m,\u001b[0m \u001b[0;36m10\u001b[0m\u001b[0;34m,\u001b[0m \u001b[0;34m(\u001b[0m\u001b[0;36m10\u001b[0m\u001b[0;34m,\u001b[0m\u001b[0;36m2\u001b[0m\u001b[0;34m)\u001b[0m\u001b[0;34m)\u001b[0m\u001b[0;34m\u001b[0m\u001b[0;34m\u001b[0m\u001b[0m\n\u001b[1;32m      6\u001b[0m \u001b[0;34m\u001b[0m\u001b[0m\n\u001b[0;32m----> 7\u001b[0;31m \u001b[0mprint\u001b[0m\u001b[0;34m(\u001b[0m\u001b[0mnp\u001b[0m\u001b[0;34m.\u001b[0m\u001b[0marray\u001b[0m\u001b[0;34m(\u001b[0m\u001b[0;34m[\u001b[0m\u001b[0mdistance\u001b[0m\u001b[0;34m(\u001b[0m\u001b[0mP0\u001b[0m\u001b[0;34m,\u001b[0m\u001b[0mP1\u001b[0m\u001b[0;34m,\u001b[0m\u001b[0mp_i\u001b[0m\u001b[0;34m)\u001b[0m \u001b[0;32mfor\u001b[0m \u001b[0mp_i\u001b[0m \u001b[0;32min\u001b[0m \u001b[0mp\u001b[0m\u001b[0;34m]\u001b[0m\u001b[0;34m)\u001b[0m\u001b[0;34m)\u001b[0m\u001b[0;34m\u001b[0m\u001b[0;34m\u001b[0m\u001b[0m\n\u001b[0m",
            "\u001b[0;32m<ipython-input-108-d845b0ed4387>\u001b[0m in \u001b[0;36m<listcomp>\u001b[0;34m(.0)\u001b[0m\n\u001b[1;32m      5\u001b[0m \u001b[0mp\u001b[0m \u001b[0;34m=\u001b[0m \u001b[0mnp\u001b[0m\u001b[0;34m.\u001b[0m\u001b[0mrandom\u001b[0m\u001b[0;34m.\u001b[0m\u001b[0muniform\u001b[0m\u001b[0;34m(\u001b[0m\u001b[0;34m-\u001b[0m\u001b[0;36m10\u001b[0m\u001b[0;34m,\u001b[0m \u001b[0;36m10\u001b[0m\u001b[0;34m,\u001b[0m \u001b[0;34m(\u001b[0m\u001b[0;36m10\u001b[0m\u001b[0;34m,\u001b[0m\u001b[0;36m2\u001b[0m\u001b[0;34m)\u001b[0m\u001b[0;34m)\u001b[0m\u001b[0;34m\u001b[0m\u001b[0;34m\u001b[0m\u001b[0m\n\u001b[1;32m      6\u001b[0m \u001b[0;34m\u001b[0m\u001b[0m\n\u001b[0;32m----> 7\u001b[0;31m \u001b[0mprint\u001b[0m\u001b[0;34m(\u001b[0m\u001b[0mnp\u001b[0m\u001b[0;34m.\u001b[0m\u001b[0marray\u001b[0m\u001b[0;34m(\u001b[0m\u001b[0;34m[\u001b[0m\u001b[0mdistance\u001b[0m\u001b[0;34m(\u001b[0m\u001b[0mP0\u001b[0m\u001b[0;34m,\u001b[0m\u001b[0mP1\u001b[0m\u001b[0;34m,\u001b[0m\u001b[0mp_i\u001b[0m\u001b[0;34m)\u001b[0m \u001b[0;32mfor\u001b[0m \u001b[0mp_i\u001b[0m \u001b[0;32min\u001b[0m \u001b[0mp\u001b[0m\u001b[0;34m]\u001b[0m\u001b[0;34m)\u001b[0m\u001b[0;34m)\u001b[0m\u001b[0;34m\u001b[0m\u001b[0;34m\u001b[0m\u001b[0m\n\u001b[0m",
            "\u001b[0;31mNameError\u001b[0m: name 'distance' is not defined"
          ]
        }
      ],
      "source": [
        "P0 = np.random.uniform(-10, 10, (10,2))\n",
        "\n",
        "P1 = np.random.uniform(-10,10,(10,2))\n",
        "\n",
        "p = np.random.uniform(-10, 10, (10,2))\n",
        "\n",
        "print(np.array([distance(P0,P1,p_i) for p_i in p]))"
      ]
    },
    {
      "cell_type": "markdown",
      "metadata": {
        "id": "e6gKNvjlhhe-"
      },
      "source": [
        "#### 80. Consider an arbitrary array, write a function that extract a subpart with a fixed shape and centered on a given element (pad with a `fill` value when necessary) (★★★) \n",
        "(**hint**: minimum, maximum)"
      ]
    },
    {
      "cell_type": "code",
      "execution_count": 109,
      "metadata": {
        "id": "C8SKdQo8hhe-",
        "colab": {
          "base_uri": "https://localhost:8080/"
        },
        "outputId": "614d2b54-8c00-4f47-b100-2c0194f59ea0"
      },
      "outputs": [
        {
          "output_type": "stream",
          "name": "stdout",
          "text": [
            "[[5 3 7 4 0 0 3 7 9 3]\n",
            " [3 5 1 3 1 9 4 1 6 4]\n",
            " [0 3 9 0 9 7 1 3 3 3]\n",
            " [7 1 2 5 7 4 2 9 5 6]\n",
            " [0 6 5 8 8 9 2 7 3 1]\n",
            " [1 6 4 8 2 3 3 2 9 7]\n",
            " [3 2 5 5 1 2 4 9 7 2]\n",
            " [7 1 4 2 0 3 9 4 9 5]\n",
            " [4 6 6 5 1 3 0 6 3 5]\n",
            " [0 2 3 4 9 4 8 0 9 4]]\n",
            "[[0 0 0 0 0]\n",
            " [0 5 3 7 4]\n",
            " [0 3 5 1 3]\n",
            " [0 0 3 9 0]\n",
            " [0 7 1 2 5]]\n"
          ]
        },
        {
          "output_type": "stream",
          "name": "stderr",
          "text": [
            "/usr/local/lib/python3.7/dist-packages/ipykernel_launcher.py:37: FutureWarning: Using a non-tuple sequence for multidimensional indexing is deprecated; use `arr[tuple(seq)]` instead of `arr[seq]`. In the future this will be interpreted as an array index, `arr[np.array(seq)]`, which will result either in an error or a different result.\n"
          ]
        }
      ],
      "source": [
        "Z = np.random.randint(0,10,(10,10))\n",
        "\n",
        "shape = (5,5)\n",
        "\n",
        "fill = 0\n",
        "\n",
        "position = (1,1)\n",
        "\n",
        "R = np.ones(shape, dtype=Z.dtype)*fill\n",
        "\n",
        "P = np.array(list(position)).astype(int)\n",
        "\n",
        "Rs = np.array(list(R.shape)).astype(int)\n",
        "\n",
        "Zs = np.array(list(Z.shape)).astype(int)\n",
        "\n",
        "R_start = np.zeros((len(shape),)).astype(int)\n",
        "\n",
        "R_stop = np.array(list(shape)).astype(int)\n",
        "\n",
        "Z_start = (P-Rs//2)\n",
        "\n",
        "Z_stop = (P+Rs//2)+Rs%2\n",
        "\n",
        "R_start = (R_start - np.minimum(Z_start,0)).tolist()\n",
        "\n",
        "Z_start = (np.maximum(Z_start,0)).tolist()\n",
        "\n",
        "R_stop = np.maximum(R_start, (R_stop - np.maximum(Z_stop-Zs,0))).tolist()\n",
        "\n",
        "Z_stop = (np.minimum(Z_stop,Zs)).tolist()\n",
        "\n",
        "r = [slice(start,stop) for start,stop in zip(R_start,R_stop)]\n",
        "\n",
        "z = [slice(start,stop) for start,stop in zip(Z_start,Z_stop)]\n",
        "\n",
        "R[r] = Z[z]\n",
        "\n",
        "print(Z)\n",
        "\n",
        "print(R)"
      ]
    },
    {
      "cell_type": "markdown",
      "metadata": {
        "id": "DjkbEnxfhhe-"
      },
      "source": [
        "#### 81. Consider an array Z = \\[1,2,3,4,5,6,7,8,9,10,11,12,13,14\\], how to generate an array R = \\[\\[1,2,3,4\\], \\[2,3,4,5\\], \\[3,4,5,6\\], ..., \\[11,12,13,14\\]\\]? (★★★) \n",
        "(**hint**: stride\\_tricks.as\\_strided)"
      ]
    },
    {
      "cell_type": "code",
      "execution_count": 110,
      "metadata": {
        "id": "cMnWEsgBhhe_",
        "colab": {
          "base_uri": "https://localhost:8080/",
          "height": 235
        },
        "outputId": "94ad74ee-a044-475d-81b9-3e4bbf7aa849"
      },
      "outputs": [
        {
          "output_type": "error",
          "ename": "NameError",
          "evalue": "ignored",
          "traceback": [
            "\u001b[0;31m---------------------------------------------------------------------------\u001b[0m",
            "\u001b[0;31mNameError\u001b[0m                                 Traceback (most recent call last)",
            "\u001b[0;32m<ipython-input-110-87967a4cafb8>\u001b[0m in \u001b[0;36m<module>\u001b[0;34m()\u001b[0m\n\u001b[1;32m      1\u001b[0m \u001b[0mZ\u001b[0m \u001b[0;34m=\u001b[0m \u001b[0mnp\u001b[0m\u001b[0;34m.\u001b[0m\u001b[0marange\u001b[0m\u001b[0;34m(\u001b[0m\u001b[0;36m1\u001b[0m\u001b[0;34m,\u001b[0m\u001b[0;36m15\u001b[0m\u001b[0;34m,\u001b[0m\u001b[0mdtype\u001b[0m\u001b[0;34m=\u001b[0m\u001b[0mnp\u001b[0m\u001b[0;34m.\u001b[0m\u001b[0muint32\u001b[0m\u001b[0;34m)\u001b[0m\u001b[0;34m\u001b[0m\u001b[0;34m\u001b[0m\u001b[0m\n\u001b[1;32m      2\u001b[0m \u001b[0;34m\u001b[0m\u001b[0m\n\u001b[0;32m----> 3\u001b[0;31m \u001b[0mR\u001b[0m \u001b[0;34m=\u001b[0m \u001b[0mstride_tricks\u001b[0m\u001b[0;34m.\u001b[0m\u001b[0mas_strided\u001b[0m\u001b[0;34m(\u001b[0m\u001b[0mZ\u001b[0m\u001b[0;34m,\u001b[0m\u001b[0;34m(\u001b[0m\u001b[0;36m11\u001b[0m\u001b[0;34m,\u001b[0m\u001b[0;36m4\u001b[0m\u001b[0;34m)\u001b[0m\u001b[0;34m,\u001b[0m\u001b[0;34m(\u001b[0m\u001b[0;36m4\u001b[0m\u001b[0;34m,\u001b[0m\u001b[0;36m4\u001b[0m\u001b[0;34m)\u001b[0m\u001b[0;34m)\u001b[0m\u001b[0;34m\u001b[0m\u001b[0;34m\u001b[0m\u001b[0m\n\u001b[0m\u001b[1;32m      4\u001b[0m \u001b[0;34m\u001b[0m\u001b[0m\n\u001b[1;32m      5\u001b[0m \u001b[0mprint\u001b[0m\u001b[0;34m(\u001b[0m\u001b[0mR\u001b[0m\u001b[0;34m)\u001b[0m\u001b[0;34m\u001b[0m\u001b[0;34m\u001b[0m\u001b[0m\n",
            "\u001b[0;31mNameError\u001b[0m: name 'stride_tricks' is not defined"
          ]
        }
      ],
      "source": [
        "Z = np.arange(1,15,dtype=np.uint32)\n",
        "\n",
        "R = stride_tricks.as_strided(Z,(11,4),(4,4))\n",
        "\n",
        "print(R)"
      ]
    },
    {
      "cell_type": "markdown",
      "metadata": {
        "id": "mzNfrNjFhhe_"
      },
      "source": [
        "#### 82. Compute a matrix rank (★★★) \n",
        "(**hint**: np.linalg.svd) (suggestion: np.linalg.svd)"
      ]
    },
    {
      "cell_type": "code",
      "execution_count": 111,
      "metadata": {
        "id": "tHbZtssyhhe_",
        "colab": {
          "base_uri": "https://localhost:8080/"
        },
        "outputId": "e6818a1f-400c-4852-da17-15dee0a7c17e"
      },
      "outputs": [
        {
          "output_type": "stream",
          "name": "stdout",
          "text": [
            "10\n"
          ]
        }
      ],
      "source": [
        "Z = np.random.uniform(0,1,(10,10))\n",
        "\n",
        "U, S, V = np.linalg.svd(Z) # Singular Value Decomposition\n",
        "\n",
        "rank = np.sum(S > 1e-10)\n",
        "\n",
        "print(rank)"
      ]
    },
    {
      "cell_type": "markdown",
      "metadata": {
        "id": "CtQelJdVhhe_"
      },
      "source": [
        "#### 83. How to find the most frequent value in an array? \n",
        "(**hint**: np.bincount, argmax)"
      ]
    },
    {
      "cell_type": "code",
      "execution_count": 112,
      "metadata": {
        "id": "KPW48aw3hhfA",
        "colab": {
          "base_uri": "https://localhost:8080/"
        },
        "outputId": "de727eeb-4cda-411b-dc20-d61e31f3e918"
      },
      "outputs": [
        {
          "output_type": "stream",
          "name": "stdout",
          "text": [
            "3\n"
          ]
        }
      ],
      "source": [
        "Z = np.random.randint(0,10,50)\n",
        "\n",
        "print(np.bincount(Z).argmax())"
      ]
    },
    {
      "cell_type": "markdown",
      "metadata": {
        "id": "qLuWqOMIhhfA"
      },
      "source": [
        "#### 84. Extract all the contiguous 3x3 blocks from a random 10x10 matrix (★★★) \n",
        "(**hint**: stride\\_tricks.as\\_strided)"
      ]
    },
    {
      "cell_type": "code",
      "execution_count": 113,
      "metadata": {
        "id": "VG_wlLB3hhfA",
        "colab": {
          "base_uri": "https://localhost:8080/",
          "height": 235
        },
        "outputId": "526fee28-986a-4939-e58b-492819f29aca"
      },
      "outputs": [
        {
          "output_type": "error",
          "ename": "NameError",
          "evalue": "ignored",
          "traceback": [
            "\u001b[0;31m---------------------------------------------------------------------------\u001b[0m",
            "\u001b[0;31mNameError\u001b[0m                                 Traceback (most recent call last)",
            "\u001b[0;32m<ipython-input-113-c46f44abadfd>\u001b[0m in \u001b[0;36m<module>\u001b[0;34m()\u001b[0m\n\u001b[1;32m      7\u001b[0m \u001b[0mj\u001b[0m \u001b[0;34m=\u001b[0m \u001b[0;36m1\u001b[0m \u001b[0;34m+\u001b[0m \u001b[0;34m(\u001b[0m\u001b[0mZ\u001b[0m\u001b[0;34m.\u001b[0m\u001b[0mshape\u001b[0m\u001b[0;34m[\u001b[0m\u001b[0;36m1\u001b[0m\u001b[0;34m]\u001b[0m\u001b[0;34m-\u001b[0m\u001b[0;36m3\u001b[0m\u001b[0;34m)\u001b[0m\u001b[0;34m\u001b[0m\u001b[0;34m\u001b[0m\u001b[0m\n\u001b[1;32m      8\u001b[0m \u001b[0;34m\u001b[0m\u001b[0m\n\u001b[0;32m----> 9\u001b[0;31m \u001b[0mC\u001b[0m \u001b[0;34m=\u001b[0m \u001b[0mstride_tricks\u001b[0m\u001b[0;34m.\u001b[0m\u001b[0mas_strided\u001b[0m\u001b[0;34m(\u001b[0m\u001b[0mZ\u001b[0m\u001b[0;34m,\u001b[0m \u001b[0mshape\u001b[0m\u001b[0;34m=\u001b[0m\u001b[0;34m(\u001b[0m\u001b[0mi\u001b[0m\u001b[0;34m,\u001b[0m \u001b[0mj\u001b[0m\u001b[0;34m,\u001b[0m \u001b[0mn\u001b[0m\u001b[0;34m,\u001b[0m \u001b[0mn\u001b[0m\u001b[0;34m)\u001b[0m\u001b[0;34m,\u001b[0m \u001b[0mstrides\u001b[0m\u001b[0;34m=\u001b[0m\u001b[0mZ\u001b[0m\u001b[0;34m.\u001b[0m\u001b[0mstrides\u001b[0m \u001b[0;34m+\u001b[0m \u001b[0mZ\u001b[0m\u001b[0;34m.\u001b[0m\u001b[0mstrides\u001b[0m\u001b[0;34m)\u001b[0m\u001b[0;34m\u001b[0m\u001b[0;34m\u001b[0m\u001b[0m\n\u001b[0m\u001b[1;32m     10\u001b[0m \u001b[0;34m\u001b[0m\u001b[0m\n\u001b[1;32m     11\u001b[0m \u001b[0mprint\u001b[0m\u001b[0;34m(\u001b[0m\u001b[0mC\u001b[0m\u001b[0;34m)\u001b[0m\u001b[0;34m\u001b[0m\u001b[0;34m\u001b[0m\u001b[0m\n",
            "\u001b[0;31mNameError\u001b[0m: name 'stride_tricks' is not defined"
          ]
        }
      ],
      "source": [
        "Z = np.random.randint(0,5,(10,10))\n",
        "\n",
        "n = 3\n",
        "\n",
        "i = 1 + (Z.shape[0]-3)\n",
        "\n",
        "j = 1 + (Z.shape[1]-3)\n",
        "\n",
        "C = stride_tricks.as_strided(Z, shape=(i, j, n, n), strides=Z.strides + Z.strides)\n",
        "\n",
        "print(C)"
      ]
    },
    {
      "cell_type": "markdown",
      "metadata": {
        "id": "VfZdynxwhhfB"
      },
      "source": [
        "#### 85. Create a 2D array subclass such that Z\\[i,j\\] == Z\\[j,i\\] (★★★) \n",
        "(**hint**: class method)"
      ]
    },
    {
      "cell_type": "code",
      "execution_count": 114,
      "metadata": {
        "id": "9XYMVI5QhhfB",
        "colab": {
          "base_uri": "https://localhost:8080/",
          "height": 130
        },
        "outputId": "2185bfa0-09c0-40e1-87f6-652f20dd7d1d"
      },
      "outputs": [
        {
          "output_type": "error",
          "ename": "IndentationError",
          "evalue": "ignored",
          "traceback": [
            "\u001b[0;36m  File \u001b[0;32m\"<ipython-input-114-afc0177fb8fe>\"\u001b[0;36m, line \u001b[0;32m3\u001b[0m\n\u001b[0;31m    def __setitem__(self, index, value):\u001b[0m\n\u001b[0m      ^\u001b[0m\n\u001b[0;31mIndentationError\u001b[0m\u001b[0;31m:\u001b[0m expected an indented block\n"
          ]
        }
      ],
      "source": [
        "class Symetric(np.ndarray):\n",
        "\n",
        "def __setitem__(self, index, value):\n",
        "\n",
        "i,j = index\n",
        "\n",
        "super(Symetric, self).__setitem__((i,j), value)\n",
        "\n",
        "super(Symetric, self).__setitem__((j,i), value)\n",
        "\n",
        "def symetric(Z):\n",
        "\n",
        "return np.asarray(Z + Z.T - np.diag(Z.diagonal())).view(Symetric)\n",
        "\n",
        "S = symetric(np.random.randint(0,10,(5,5)))\n",
        "\n",
        "S[2,3] = 42\n",
        "\n",
        "print(S)"
      ]
    },
    {
      "cell_type": "markdown",
      "metadata": {
        "id": "-grO6PTGhhfB"
      },
      "source": [
        "#### 86. Consider a set of p matrices wich shape (n,n) and a set of p vectors with shape (n,1). How to compute the sum of of the p matrix products at once? (result has shape (n,1)) (★★★) \n",
        "(**hint**: np.tensordot)"
      ]
    },
    {
      "cell_type": "code",
      "execution_count": 115,
      "metadata": {
        "id": "b95btj0ThhfC",
        "colab": {
          "base_uri": "https://localhost:8080/"
        },
        "outputId": "9173b5cc-1360-44fb-81b6-7d3c1c9513d1"
      },
      "outputs": [
        {
          "output_type": "stream",
          "name": "stdout",
          "text": [
            "[[200.]\n",
            " [200.]\n",
            " [200.]\n",
            " [200.]\n",
            " [200.]\n",
            " [200.]\n",
            " [200.]\n",
            " [200.]\n",
            " [200.]\n",
            " [200.]\n",
            " [200.]\n",
            " [200.]\n",
            " [200.]\n",
            " [200.]\n",
            " [200.]\n",
            " [200.]\n",
            " [200.]\n",
            " [200.]\n",
            " [200.]\n",
            " [200.]]\n"
          ]
        }
      ],
      "source": [
        "p, n = 10, 20\n",
        "\n",
        "M = np.ones((p,n,n))\n",
        "\n",
        "V = np.ones((p,n,1))\n",
        "\n",
        "S = np.tensordot(M, V, axes=[[0, 2], [0, 1]])\n",
        "\n",
        "print(S)"
      ]
    },
    {
      "cell_type": "markdown",
      "metadata": {
        "id": "NFK0x4HGhhfC"
      },
      "source": [
        "#### 87. Consider a 16x16 array, how to get the block-sum (block size is 4x4)? (★★★) \n",
        "(**hint**: np.add.reduceat)"
      ]
    },
    {
      "cell_type": "code",
      "execution_count": 116,
      "metadata": {
        "id": "aZC0w6aUhhfD",
        "colab": {
          "base_uri": "https://localhost:8080/"
        },
        "outputId": "e38f5e9d-d7c8-4d1e-a26f-4b3caea6887a"
      },
      "outputs": [
        {
          "output_type": "stream",
          "name": "stdout",
          "text": [
            "[[16. 16. 16. 16.]\n",
            " [16. 16. 16. 16.]\n",
            " [16. 16. 16. 16.]\n",
            " [16. 16. 16. 16.]]\n"
          ]
        }
      ],
      "source": [
        "Z = np.ones((16,16))\n",
        "\n",
        "k = 4\n",
        "\n",
        "S = np.add.reduceat(np.add.reduceat(Z, np.arange(0, Z.shape[0], k), axis=0),\n",
        "\n",
        "np.arange(0, Z.shape[1], k), axis=1)\n",
        "\n",
        "print(S)"
      ]
    },
    {
      "cell_type": "markdown",
      "metadata": {
        "id": "J1cAWVxHhhfE"
      },
      "source": [
        "#### 88. How to implement the Game of Life using numpy arrays? (★★★)"
      ]
    },
    {
      "cell_type": "code",
      "execution_count": null,
      "metadata": {
        "id": "5TljMU5fhhfE"
      },
      "outputs": [],
      "source": [
        "def iterate(Z):\n",
        "\n",
        "\n",
        "    N = (Z[0:-2,0:-2] + Z[0:-2,1:-1] + Z[0:-2,2:] +\n",
        "\n",
        "Z[1:-1,0:-2] + Z[1:-1,2:] +\n",
        "\n",
        "Z[2: ,0:-2] + Z[2: ,1:-1] + Z[2: ,2:])\n",
        "\n",
        "\n",
        "birth = (N==3) & (Z[1:-1,1:-1]==0)\n",
        "\n",
        "survive = ((N==2) | (N==3)) & (Z[1:-1,1:-1]==1)\n",
        "\n",
        "Z[...] = 0\n",
        "\n",
        "Z[1:-1,1:-1][birth | survive] = 1\n",
        "\n",
        "return Z\n",
        "\n",
        "Z = np.random.randint(0,2,(50,50))\n",
        "\n",
        "for i in range(100): Z = iterate(Z)\n",
        "\n",
        "    print(Z)"
      ]
    },
    {
      "cell_type": "markdown",
      "metadata": {
        "id": "iFCpUJsfhhfE"
      },
      "source": [
        "#### 89. How to get the n largest values of an array (★★★) \n",
        "(**hint**: np.argsort | np.argpartition)"
      ]
    },
    {
      "cell_type": "code",
      "execution_count": 121,
      "metadata": {
        "id": "y6RGDzSnhhfF",
        "colab": {
          "base_uri": "https://localhost:8080/"
        },
        "outputId": "cd7ef85a-0dfd-49fc-dba5-f6c2cf8d9791"
      },
      "outputs": [
        {
          "output_type": "stream",
          "name": "stdout",
          "text": [
            "[9995 9996 9997 9998 9999]\n"
          ]
        }
      ],
      "source": [
        "Z = np.arange(10000)\n",
        "\n",
        "np.random.shuffle(Z)\n",
        "\n",
        "n = 5\n",
        "\n",
        "print (Z[np.argsort(Z)[-n:]])"
      ]
    },
    {
      "cell_type": "markdown",
      "metadata": {
        "id": "FalSSN6WhhfF"
      },
      "source": [
        "#### 90. Given an arbitrary number of vectors, build the cartesian product (every combinations of every item) (★★★) \n",
        "(**hint**: np.indices)"
      ]
    },
    {
      "cell_type": "code",
      "execution_count": 125,
      "metadata": {
        "scrolled": true,
        "id": "qOwFg8DZhhfF",
        "colab": {
          "base_uri": "https://localhost:8080/",
          "height": 235
        },
        "outputId": "a3e78dd4-9bec-44b1-c857-750fe6af9720"
      },
      "outputs": [
        {
          "output_type": "error",
          "ename": "NameError",
          "evalue": "ignored",
          "traceback": [
            "\u001b[0;31m---------------------------------------------------------------------------\u001b[0m",
            "\u001b[0;31mNameError\u001b[0m                                 Traceback (most recent call last)",
            "\u001b[0;32m<ipython-input-125-29faea60bc5e>\u001b[0m in \u001b[0;36m<module>\u001b[0;34m()\u001b[0m\n\u001b[1;32m      9\u001b[0m   \u001b[0mix\u001b[0m \u001b[0;34m=\u001b[0m \u001b[0mix\u001b[0m\u001b[0;34m.\u001b[0m\u001b[0mreshape\u001b[0m\u001b[0;34m(\u001b[0m\u001b[0mlen\u001b[0m\u001b[0;34m(\u001b[0m\u001b[0marrays\u001b[0m\u001b[0;34m)\u001b[0m\u001b[0;34m,\u001b[0m \u001b[0;34m-\u001b[0m\u001b[0;36m1\u001b[0m\u001b[0;34m)\u001b[0m\u001b[0;34m.\u001b[0m\u001b[0mT\u001b[0m\u001b[0;34m\u001b[0m\u001b[0;34m\u001b[0m\u001b[0m\n\u001b[1;32m     10\u001b[0m \u001b[0;34m\u001b[0m\u001b[0m\n\u001b[0;32m---> 11\u001b[0;31m \u001b[0;32mfor\u001b[0m \u001b[0mn\u001b[0m\u001b[0;34m,\u001b[0m \u001b[0marr\u001b[0m \u001b[0;32min\u001b[0m \u001b[0menumerate\u001b[0m\u001b[0;34m(\u001b[0m\u001b[0marrays\u001b[0m\u001b[0;34m)\u001b[0m\u001b[0;34m:\u001b[0m\u001b[0;34m\u001b[0m\u001b[0;34m\u001b[0m\u001b[0m\n\u001b[0m\u001b[1;32m     12\u001b[0m \u001b[0;34m\u001b[0m\u001b[0m\n\u001b[1;32m     13\u001b[0m   \u001b[0mix\u001b[0m\u001b[0;34m[\u001b[0m\u001b[0;34m:\u001b[0m\u001b[0;34m,\u001b[0m \u001b[0mn\u001b[0m\u001b[0;34m]\u001b[0m \u001b[0;34m=\u001b[0m \u001b[0marrays\u001b[0m\u001b[0;34m[\u001b[0m\u001b[0mn\u001b[0m\u001b[0;34m]\u001b[0m\u001b[0;34m[\u001b[0m\u001b[0mix\u001b[0m\u001b[0;34m[\u001b[0m\u001b[0;34m:\u001b[0m\u001b[0;34m,\u001b[0m \u001b[0mn\u001b[0m\u001b[0;34m]\u001b[0m\u001b[0;34m]\u001b[0m\u001b[0;34m\u001b[0m\u001b[0;34m\u001b[0m\u001b[0m\n",
            "\u001b[0;31mNameError\u001b[0m: name 'arrays' is not defined"
          ]
        }
      ],
      "source": [
        "def cartesian(arrays):\n",
        "\n",
        "  arrays = [np.asarray(a) for a in arrays]\n",
        "\n",
        "  shape = (len(x) for x in arrays)\n",
        "\n",
        "  ix = np.indices(shape, dtype=int)\n",
        "\n",
        "  ix = ix.reshape(len(arrays), -1).T\n",
        "\n",
        "for n, arr in enumerate(arrays):\n",
        "\n",
        "  ix[:, n] = arrays[n][ix[:, n]]\n",
        "\n",
        "return ix\n",
        "\n",
        "print (cartesian(([1, 2, 3], [4, 5], [6, 7])))"
      ]
    },
    {
      "cell_type": "markdown",
      "metadata": {
        "id": "Kh9Ld3uyhhfF"
      },
      "source": [
        "#### 91. How to create a record array from a regular array? (★★★) \n",
        "(**hint**: np.core.records.fromarrays)"
      ]
    },
    {
      "cell_type": "code",
      "execution_count": 126,
      "metadata": {
        "id": "X8-QSREdhhfG",
        "colab": {
          "base_uri": "https://localhost:8080/"
        },
        "outputId": "52c355db-3b46-420d-9c0a-06b43cc8ef1d"
      },
      "outputs": [
        {
          "output_type": "stream",
          "name": "stdout",
          "text": [
            "[(b'Hello', 2.5, 3) (b'World', 3.6, 2)]\n"
          ]
        }
      ],
      "source": [
        "Z = np.array([(\"Hello\", 2.5, 3),\n",
        "\n",
        "(\"World\", 3.6, 2)])\n",
        "\n",
        "R = np.core.records.fromarrays(Z.T,\n",
        "\n",
        "names='col1, col2, col3',\n",
        "\n",
        "formats = 'S8, f8, i8')\n",
        "\n",
        "print(R)"
      ]
    },
    {
      "cell_type": "markdown",
      "metadata": {
        "id": "VcoXGRtehhfG"
      },
      "source": [
        "#### 92. Consider a large vector Z, compute Z to the power of 3 using 3 different methods (★★★) \n",
        "(**hint**: np.power, \\*, np.einsum)"
      ]
    },
    {
      "cell_type": "code",
      "execution_count": null,
      "metadata": {
        "id": "iaY4SS0_hhfG"
      },
      "outputs": [],
      "source": [
        "x = np.random.rand(5e7)\n",
        "\n",
        "%timeit np.power(x,3)\n",
        "\n",
        "%timeit x*x*x\n",
        "\n",
        "%timeit np.einsum('i,i,i->i',x,x,x)"
      ]
    },
    {
      "cell_type": "markdown",
      "metadata": {
        "id": "lxFfasgfhhfG"
      },
      "source": [
        "#### 93. Consider two arrays A and B of shape (8,3) and (2,2). How to find rows of A that contain elements of each row of B regardless of the order of the elements in B? (★★★) \n",
        "(**hint**: np.where)"
      ]
    },
    {
      "cell_type": "code",
      "execution_count": 128,
      "metadata": {
        "id": "2FbczoCjhhfH",
        "colab": {
          "base_uri": "https://localhost:8080/"
        },
        "outputId": "d6be2eca-85b2-4f39-b8a4-9bd6dd0fce4e"
      },
      "outputs": [
        {
          "output_type": "stream",
          "name": "stdout",
          "text": [
            "[0 1 2 3 4 5]\n"
          ]
        }
      ],
      "source": [
        "A = np.random.randint(0,5,(8,3))\n",
        "\n",
        "B = np.random.randint(0,5,(2,2))\n",
        "\n",
        "C = (A[..., np.newaxis, np.newaxis] == B)\n",
        "\n",
        "rows = (C.sum(axis=(1,2,3)) >= B.shape[1]).nonzero()[0]\n",
        "\n",
        "print(rows)"
      ]
    },
    {
      "cell_type": "markdown",
      "metadata": {
        "id": "Mi3OVGqNhhfH"
      },
      "source": [
        "#### 94. Considering a 10x3 matrix, extract rows with unequal values (e.g. \\[2,2,3\\]) (★★★)"
      ]
    },
    {
      "cell_type": "code",
      "execution_count": 129,
      "metadata": {
        "id": "PdALj7HFhhfH",
        "colab": {
          "base_uri": "https://localhost:8080/"
        },
        "outputId": "869189cc-cd97-4601-aae6-c742f6a87965"
      },
      "outputs": [
        {
          "output_type": "stream",
          "name": "stdout",
          "text": [
            "[[2 1 3]\n",
            " [3 0 1]\n",
            " [2 3 2]\n",
            " [2 2 0]\n",
            " [2 4 1]\n",
            " [4 4 1]\n",
            " [4 0 4]\n",
            " [1 3 2]\n",
            " [1 1 0]\n",
            " [3 2 0]]\n",
            "[[2 1 3]\n",
            " [3 0 1]\n",
            " [2 3 2]\n",
            " [2 2 0]\n",
            " [2 4 1]\n",
            " [4 4 1]\n",
            " [4 0 4]\n",
            " [1 3 2]\n",
            " [1 1 0]\n",
            " [3 2 0]]\n"
          ]
        }
      ],
      "source": [
        "Z = np.random.randint(0,5,(10,3))\n",
        "\n",
        "E = np.logical_and.reduce(Z[:,1:] == Z[:,:-1], axis=1)\n",
        "\n",
        "U = Z[~E]\n",
        "\n",
        "print(Z)\n",
        "\n",
        "print(U)"
      ]
    },
    {
      "cell_type": "markdown",
      "metadata": {
        "id": "6URQJWyQhhfH"
      },
      "source": [
        "#### 95. Convert a vector of ints into a matrix binary representation (★★★) \n",
        "(**hint**: np.unpackbits)"
      ]
    },
    {
      "cell_type": "code",
      "execution_count": 130,
      "metadata": {
        "id": "Ra5q6WIHhhfI",
        "colab": {
          "base_uri": "https://localhost:8080/"
        },
        "outputId": "8f89a067-6164-4f41-a6c2-0630e3892cf6"
      },
      "outputs": [
        {
          "output_type": "stream",
          "name": "stdout",
          "text": [
            "[[0 0 0 0 0 0 0 0]\n",
            " [0 0 0 0 0 0 0 1]\n",
            " [0 0 0 0 0 0 1 0]\n",
            " [0 0 0 0 0 0 1 1]\n",
            " [0 0 0 0 1 1 1 1]\n",
            " [0 0 0 1 0 0 0 0]\n",
            " [0 0 1 0 0 0 0 0]\n",
            " [0 1 0 0 0 0 0 0]\n",
            " [1 0 0 0 0 0 0 0]]\n",
            "[[0 0 0 0 0 0 0 0]\n",
            " [0 0 0 0 0 0 0 1]\n",
            " [0 0 0 0 0 0 1 0]\n",
            " [0 0 0 0 0 0 1 1]\n",
            " [0 0 0 0 1 1 1 1]\n",
            " [0 0 0 1 0 0 0 0]\n",
            " [0 0 1 0 0 0 0 0]\n",
            " [0 1 0 0 0 0 0 0]\n",
            " [1 0 0 0 0 0 0 0]]\n"
          ]
        }
      ],
      "source": [
        "I = np.array([0, 1, 2, 3, 15, 16, 32, 64, 128])\n",
        "\n",
        "B = ((I.reshape(-1,1) & (2**np.arange(8))) != 0).astype(int)\n",
        "\n",
        "print(B[:,::-1])\n",
        "\n",
        "# Author: Daniel T. McDonald\n",
        "\n",
        "I = np.array([0, 1, 2, 3, 15, 16, 32, 64, 128], dtype=np.uint8)\n",
        "\n",
        "print(np.unpackbits(I[:, np.newaxis], axis=1))"
      ]
    },
    {
      "cell_type": "markdown",
      "metadata": {
        "id": "QfAiPuuchhfI"
      },
      "source": [
        "#### 96. Given a two dimensional array, how to extract unique rows? (★★★) \n",
        "(**hint**: np.ascontiguousarray)"
      ]
    },
    {
      "cell_type": "code",
      "execution_count": 131,
      "metadata": {
        "id": "tuF4HDSEhhfI",
        "colab": {
          "base_uri": "https://localhost:8080/"
        },
        "outputId": "921fcfc2-3764-4afb-cb39-74faa9010786"
      },
      "outputs": [
        {
          "output_type": "stream",
          "name": "stdout",
          "text": [
            "[[0 0 1]\n",
            " [0 1 1]\n",
            " [1 0 0]\n",
            " [1 1 1]]\n"
          ]
        }
      ],
      "source": [
        "Z = np.random.randint(0,2,(6,3))\n",
        "\n",
        "T = np.ascontiguousarray(Z).view(np.dtype((np.void, Z.dtype.itemsize * Z.shape[1])))\n",
        "\n",
        "_, idx = np.unique(T, return_index=True)\n",
        "\n",
        "uZ = Z[idx]\n",
        "\n",
        "print(uZ)"
      ]
    },
    {
      "cell_type": "markdown",
      "metadata": {
        "id": "YqSDbuanhhfI"
      },
      "source": [
        "#### 97. Considering 2 vectors A & B, write the einsum equivalent of inner, outer, sum, and mul function (★★★) \n",
        "(**hint**: np.einsum)"
      ]
    },
    {
      "cell_type": "code",
      "execution_count": 132,
      "metadata": {
        "id": "p8gZOtAEhhfI",
        "colab": {
          "base_uri": "https://localhost:8080/"
        },
        "outputId": "1fc294fd-5b6e-44dc-e4be-49f416bb2289"
      },
      "outputs": [
        {
          "output_type": "execute_result",
          "data": {
            "text/plain": [
              "array([[0.20953565, 0.6237671 , 0.6958453 , 0.42505197, 0.60954462,\n",
              "        0.49716663, 0.32503354, 0.75624654, 0.925738  , 0.87126458],\n",
              "       [0.1995332 , 0.59399081, 0.66262827, 0.40476159, 0.58044726,\n",
              "        0.47343377, 0.30951766, 0.72014618, 0.88154676, 0.8296737 ],\n",
              "       [0.08231634, 0.24504768, 0.27336369, 0.16698219, 0.23946036,\n",
              "        0.19531253, 0.12768983, 0.29709239, 0.36367732, 0.34227737],\n",
              "       [0.05648586, 0.16815287, 0.18758345, 0.11458396, 0.16431882,\n",
              "        0.13402437, 0.08762136, 0.20386619, 0.24955708, 0.23487234],\n",
              "       [0.06435834, 0.19158847, 0.21372711, 0.13055363, 0.18722007,\n",
              "        0.15270346, 0.09983322, 0.23227919, 0.28433806, 0.26760669],\n",
              "       [0.11712855, 0.34868022, 0.38897128, 0.23760024, 0.34072998,\n",
              "        0.27791169, 0.18169083, 0.42273504, 0.51747924, 0.48702909],\n",
              "       [0.01828338, 0.05442784, 0.06071714, 0.03708862, 0.05318683,\n",
              "        0.0433811 , 0.02836134, 0.06598755, 0.08077681, 0.07602364],\n",
              "       [0.0958549 , 0.28535066, 0.3183238 , 0.19444574, 0.27884439,\n",
              "        0.22743557, 0.14869097, 0.34595516, 0.42349131, 0.39857171],\n",
              "       [0.1779115 , 0.5296251 , 0.5908249 , 0.36090104, 0.51754915,\n",
              "        0.42213179, 0.27597788, 0.64211009, 0.78602107, 0.73976905],\n",
              "       [0.060065  , 0.17880762, 0.19946939, 0.1218444 , 0.17473063,\n",
              "        0.14251662, 0.09317335, 0.21678386, 0.26536989, 0.24975467]])"
            ]
          },
          "metadata": {},
          "execution_count": 132
        }
      ],
      "source": [
        "A = np.random.uniform(0,1,10)\n",
        "\n",
        "B = np.random.uniform(0,1,10)\n",
        "\n",
        "np.einsum('i->', A) # np.sum(A)\n",
        "\n",
        "np.einsum('i,i->i', A, B) # A * B\n",
        "\n",
        "np.einsum('i,i', A, B) # np.inner(A, B)\n",
        "\n",
        "np.einsum('i,j', A, B) # np.outer(A, B)"
      ]
    },
    {
      "cell_type": "markdown",
      "metadata": {
        "id": "z7w3RAIQhhfI"
      },
      "source": [
        "#### 98. Considering a path described by two vectors (X,Y), how to sample it using equidistant samples (★★★)? \n",
        "(**hint**: np.cumsum, np.interp)"
      ]
    },
    {
      "cell_type": "code",
      "execution_count": 133,
      "metadata": {
        "collapsed": true,
        "id": "VGKvZGixhhfJ"
      },
      "outputs": [],
      "source": [
        "phi = np.arange(0, 10*np.pi, 0.1)\n",
        "\n",
        "a = 1\n",
        "\n",
        "x = a*phi*np.cos(phi)\n",
        "\n",
        "y = a*phi*np.sin(phi)\n",
        "\n",
        "dr = (np.diff(x)**2 + np.diff(y)**2)**.5 # segment lengths\n",
        "\n",
        "r = np.zeros_like(x)\n",
        "\n",
        "r[1:] = np.cumsum(dr) # integrate path\n",
        "\n",
        "r_int = np.linspace(0, r.max(), 200) # regular spaced path\n",
        "\n",
        "x_int = np.interp(r_int, r, x) # integrate path\n",
        "\n",
        "y_int = np.interp(r_int, r, y)"
      ]
    },
    {
      "cell_type": "markdown",
      "metadata": {
        "id": "Zk-r_go2hhfJ"
      },
      "source": [
        "#### 99. Given an integer n and a 2D array X, select from X the rows which can be interpreted as draws from a multinomial distribution with n degrees, i.e., the rows which only contain integers and which sum to n. (★★★) \n",
        "(**hint**: np.logical\\_and.reduce, np.mod)"
      ]
    },
    {
      "cell_type": "code",
      "execution_count": 134,
      "metadata": {
        "id": "bjLO9D3chhfJ",
        "colab": {
          "base_uri": "https://localhost:8080/"
        },
        "outputId": "66a43aab-3531-40dc-b5dc-ef08de26555f"
      },
      "outputs": [
        {
          "output_type": "stream",
          "name": "stdout",
          "text": [
            "[[2. 0. 1. 1.]]\n"
          ]
        }
      ],
      "source": [
        "X = np.asarray([[1.0, 0.0, 3.0, 8.0],\n",
        "\n",
        "[2.0, 0.0, 1.0, 1.0],\n",
        "\n",
        "[1.5, 2.5, 1.0, 0.0]])\n",
        "\n",
        "n = 4\n",
        "\n",
        "M = np.logical_and.reduce(np.mod(X, 1) == 0, axis=-1)\n",
        "\n",
        "M &= (X.sum(axis=-1) == n)\n",
        "\n",
        "print(X[M])"
      ]
    },
    {
      "cell_type": "markdown",
      "metadata": {
        "id": "Hx6t_hVrhhfJ"
      },
      "source": [
        "#### 100. Compute bootstrapped 95% confidence intervals for the mean of a 1D array X (i.e., resample the elements of an array with replacement N times, compute the mean of each sample, and then compute percentiles over the means). (★★★) \n",
        "(**hint**: np.percentile)"
      ]
    },
    {
      "cell_type": "code",
      "execution_count": 136,
      "metadata": {
        "id": "_oIurQVshhfJ",
        "colab": {
          "base_uri": "https://localhost:8080/"
        },
        "outputId": "b6976774-818b-47a0-c903-7b557268cf68"
      },
      "outputs": [
        {
          "output_type": "stream",
          "name": "stdout",
          "text": [
            "[-0.11577965  0.23663765]\n"
          ]
        }
      ],
      "source": [
        "X = np.random.randn(100) # random 1D array\n",
        "\n",
        "N = 1000 # number of bootstrap samples\n",
        "\n",
        "idx = np.random.randint(0, X.size, (N, X.size))\n",
        "\n",
        "means = X[idx].mean(axis=1)\n",
        "\n",
        "confint = np.percentile(means, [2.5, 97.5])\n",
        "\n",
        "print(confint)\n"
      ]
    }
  ],
  "metadata": {
    "kernelspec": {
      "display_name": "Python 3",
      "language": "python",
      "name": "python3"
    },
    "language_info": {
      "codemirror_mode": {
        "name": "ipython",
        "version": 3
      },
      "file_extension": ".py",
      "mimetype": "text/x-python",
      "name": "python",
      "nbconvert_exporter": "python",
      "pygments_lexer": "ipython3",
      "version": "3.8.3"
    },
    "colab": {
      "name": "Copy of Numpy_tasks.ipynb",
      "provenance": [],
      "toc_visible": true,
      "include_colab_link": true
    }
  },
  "nbformat": 4,
  "nbformat_minor": 0
}